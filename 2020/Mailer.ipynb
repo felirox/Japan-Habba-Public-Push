{
 "cells": [
  {
   "cell_type": "code",
   "execution_count": 1,
   "id": "2d6c0e56",
   "metadata": {},
   "outputs": [],
   "source": [
    "import smtplib, os\n",
    "\n",
    "from email.utils import formataddr\n",
    "from email.mime.multipart import MIMEMultipart\n",
    "from email.mime.text import MIMEText\n",
    "from email.mime.base import MIMEBase\n",
    "from email import encoders"
   ]
  },
  {
   "cell_type": "code",
   "execution_count": 2,
   "id": "3aa9fb70",
   "metadata": {},
   "outputs": [],
   "source": [
    "def send_email(company_name, person_name, person_email):\n",
    "    # me == my email address\n",
    "    # you == recipient's email address\n",
    "    me = formataddr(('Japan Habba Public Relations', 'japanhabbapr@gmail.com')) #\"japanhabbapr@gmail.com\"\n",
    "    you = formataddr((person_name, person_email)) #\"pikachuzhome@gmail.com\"\n",
    "\n",
    "    # Create message container - the correct MIME type is multipart/alternative.\n",
    "    msg = MIMEMultipart('alternative')\n",
    "    msg['Subject'] = \"Invitation to Host an Event at Japan Habba 2022\"\n",
    "    msg['From'] = me\n",
    "    msg['To'] = you\n",
    "\n",
    "    # Create the body of the message (a plain-text and an HTML version).\n",
    "    text = \"\"\"Dear {},\n",
    "\n",
    "    The biggest cultural exchange program between India and Japan is back, with a fresh line-up of events bringing Japanese culture, language, pop culture, food, arts, academia and industry all under one umbrella! \n",
    "\n",
    "    Despite the limitations of the current situation, Japan Habba 2021 was a grand success in its first ever online version of the event, garnering extensive national awareness.\n",
    "\n",
    "    In light of the 70th anniversary of Japan-India diplomatic relations this year, we hope to make Japan Habba 2022 a very special event. We would like to take this opportunity to reconnect with all our past patrons and collaborators, whose support has made Japan Habba the massive success that it is, today.\n",
    "\n",
    "    On this special occasion, we would like to add a new flavor to Japan Habba, by inviting proposals for events hosted during Japan Habba 2022. It is our pleasure to extend this opportunity to {}, for being a loyal patron of Japan Habba through the years.\n",
    "\n",
    "    DO YOU HAVE AN IDEA YOU’D LIKE TO SEE REALIZED AT JAPAN HABBA 2022?\n",
    "\n",
    "    Tell us your ideas and how you would implement it. Work with us and see your idea come to life on Japan Habba 2022 (held online) this April. For more details, please check the attachment.\n",
    "\n",
    "    Looking forward to your applications!\n",
    "    \n",
    "    (Please note that Silver, Gold and Platinum Sponsorship for Japan Habba will be made available separately shortly. We will contact you regarding this.)\n",
    "\n",
    "    For any queries, please send a WhatsApp message to: +91 8584931669 (Soham Pal)\"\"\"\n",
    "\n",
    "    html = \"\"\"<p>Dear {},</p>\n",
    "\n",
    "    <p>The biggest cultural exchange program between India and Japan is back, with a fresh line-up of events bringing Japanese culture, language, pop culture, food, arts, academia and industry all under one umbrella!</p>\n",
    "\n",
    "    <p>Despite the limitations of the current situation, Japan Habba 2021 was a grand success in its first ever online version of the event, garnering extensive national awareness.</p>\n",
    "\n",
    "    <p>In light of the 70th anniversary of Japan-India diplomatic relations this year, we hope to make Japan Habba 2022 a very special event. We would like to take this opportunity to reconnect with all our past patrons and collaborators, whose support has made Japan Habba the massive success that it is, today.</p>\n",
    "\n",
    "    <p>On this special occasion, we would like to add a new flavor to Japan Habba, by inviting proposals for events hosted during Japan Habba 2022. It is our pleasure to extend this opportunity to {}, for being a loyal patron of Japan Habba through the years.</p>\n",
    "\n",
    "    <p><b>Do you have an idea you'd like to see realized at Japan Habba 2022?</b></p>\n",
    "\n",
    "    <p>Tell us your ideas and how you would implement it. Work with us and see your idea come to life on Japan Habba 2022 (held online) this April. For more details, please check 📎 the attachment.</p>\n",
    "\n",
    "    <p>Looking forward to your applications!</p>\n",
    "    \n",
    "    <p style=\"color: red;\">(Please note that Silver, Gold and Platinum Sponsorship for Japan Habba will be made available separately shortly. We will contact you regarding this.)</p>\n",
    "\n",
    "    <p>For any queries, please <a href=\"https://wa.me/918584931669\">send a WhatsApp message to +918584931669 (Soham Pal)</a>.</p>\n",
    "    \"\"\"\n",
    "\n",
    "    # Record the MIME types of both parts - text/plain and text/html.\n",
    "    part1 = MIMEText(text.format(person_name, company_name), 'plain')\n",
    "    part2 = MIMEText(html.format(person_name, company_name), 'html')\n",
    "\n",
    "    # Attach parts into message container.\n",
    "    # According to RFC 2046, the last part of a multipart message, in this case\n",
    "    # the HTML message, is best and preferred.\n",
    "    msg.attach(part1)\n",
    "    msg.attach(part2)\n",
    "\n",
    "    path = 'C:/Users/Soham/Downloads/'\n",
    "    filename = 'Host an Event at Japan Habba 2022.pdf'\n",
    "\n",
    "    with open(os.path.join(path, filename), 'rb') as f:\n",
    "        attachment = MIMEBase('application', 'pdf')\n",
    "        attachment.set_payload(f.read())\n",
    "        f.close()\n",
    "        encoders.encode_base64(attachment)\n",
    "        attachment.add_header(\"Content-Disposition\", \"attachment\", filename=filename)\n",
    "        attachment.add_header('Content-ID', '<{}>'.format(filename))\n",
    "        msg.attach(attachment)\n",
    "\n",
    "    # Send the message via local SMTP server.\n",
    "    s = smtplib.SMTP('smtp.gmail.com', 587)\n",
    "\n",
    "    # start TLS for security\n",
    "    s.starttls()\n",
    "\n",
    "    # Authentication\n",
    "    s.login(\"japanhabbapr@gmail.com\", \"jhpr2018\")\n",
    "\n",
    "    # sendmail function takes 3 arguments: sender's address, recipient's address\n",
    "    # and message to send - here it is sent as one string.\n",
    "    s.sendmail(me, you, msg.as_string())\n",
    "    s.quit()"
   ]
  },
  {
   "cell_type": "code",
   "execution_count": null,
   "id": "06390934",
   "metadata": {},
   "outputs": [],
   "source": [
    "send_email('Pop Circuit', 'Nikhil Ravikumar', 'popcircuitindia@gmail.com')"
   ]
  },
  {
   "cell_type": "code",
   "execution_count": null,
   "id": "e636ac1a",
   "metadata": {},
   "outputs": [],
   "source": []
  },
  {
   "cell_type": "code",
   "execution_count": 14,
   "id": "201dbb31",
   "metadata": {},
   "outputs": [],
   "source": [
    "import pandas as pd"
   ]
  },
  {
   "cell_type": "code",
   "execution_count": 15,
   "id": "11be304b",
   "metadata": {},
   "outputs": [],
   "source": [
    "df = pd.read_csv('C:/Users/Soham/Downloads/mailing_list.csv')"
   ]
  },
  {
   "cell_type": "code",
   "execution_count": 25,
   "id": "ccaf2b7c",
   "metadata": {},
   "outputs": [],
   "source": [
    "send_email('Meghna Co. Ltd.', 'Meghna', 'meghnavijaykumar27@gmail.com')"
   ]
  },
  {
   "cell_type": "code",
   "execution_count": 26,
   "id": "0ccfe01d",
   "metadata": {},
   "outputs": [],
   "source": [
    "from tqdm import tqdm"
   ]
  },
  {
   "cell_type": "code",
   "execution_count": 27,
   "id": "716eebb0",
   "metadata": {},
   "outputs": [
    {
     "name": "stderr",
     "output_type": "stream",
     "text": [
      "59it [21:45, 22.12s/it]\n"
     ]
    }
   ],
   "source": [
    "for index, row in tqdm(df.iterrows()):\n",
    "    company_name = row['company_name']\n",
    "    person_name = row['person_name']\n",
    "    person_email = row['person_email']\n",
    "    \n",
    "    send_email(company_name, person_name, person_email)"
   ]
  },
  {
   "cell_type": "code",
   "execution_count": 29,
   "id": "58a7ddb3",
   "metadata": {},
   "outputs": [],
   "source": [
    "send_email('Sakuraa India Foundation', 'Ranganath Meti K', 'info@sakuraaindiafoundation.org')"
   ]
  },
  {
   "cell_type": "code",
   "execution_count": 30,
   "id": "701ade76",
   "metadata": {},
   "outputs": [],
   "source": [
    "send_email('Rie Masala Pvt. Ltd. (Azuki)', 'Rie Goto', 'riemasala@gmail.com')"
   ]
  },
  {
   "cell_type": "code",
   "execution_count": 31,
   "id": "bab3b6f9",
   "metadata": {},
   "outputs": [],
   "source": [
    "send_email('Otsuka Foods India Pvt. Ltd.', 'Hirokazu Uematsu', 'uematsu.hirokazu@otsuka.jp')"
   ]
  },
  {
   "cell_type": "code",
   "execution_count": 32,
   "id": "fcda811d",
   "metadata": {},
   "outputs": [],
   "source": [
    "def send_email_generic(name, person_email):\n",
    "    # me == my email address\n",
    "    # you == recipient's email address\n",
    "    me = formataddr(('Japan Habba Public Relations', 'japanhabbapr@gmail.com')) #\"japanhabbapr@gmail.com\"\n",
    "    you = formataddr((name, person_email)) #\"pikachuzhome@gmail.com\"\n",
    "\n",
    "    # Create message container - the correct MIME type is multipart/alternative.\n",
    "    msg = MIMEMultipart('alternative')\n",
    "    msg['Subject'] = \"Invitation to Host an Event at Japan Habba 2022\"\n",
    "    msg['From'] = me\n",
    "    msg['To'] = you\n",
    "\n",
    "    # Create the body of the message (a plain-text and an HTML version).\n",
    "    text = \"\"\"Dear Sir/Ma'am,\n",
    "\n",
    "    The biggest cultural exchange program between India and Japan is back, with a fresh line-up of events bringing Japanese culture, language, pop culture, food, arts, academia and industry all under one umbrella! \n",
    "\n",
    "    Despite the limitations of the current situation, Japan Habba 2021 was a grand success in its first ever online version of the event, garnering extensive national awareness.\n",
    "\n",
    "    In light of the 70th anniversary of Japan-India diplomatic relations this year, we hope to make Japan Habba 2022 a very special event. On this special occasion, we would like to add a new flavor to Japan Habba, by inviting proposals for events hosted during Japan Habba 2022.\n",
    "\n",
    "    DO YOU HAVE AN IDEA YOU’D LIKE TO SEE REALIZED AT JAPAN HABBA 2022?\n",
    "\n",
    "    Tell us your ideas and how you would implement it. Work with us and see your idea come to life on Japan Habba 2022 (held online) this April. For more details, please check the attachment.\n",
    "\n",
    "    Looking forward to your applications!\n",
    "    \n",
    "    (Please note that Silver, Gold and Platinum Sponsorship for Japan Habba will be made available separately shortly. We will contact you regarding this.)\n",
    "\n",
    "    For any queries, please send a WhatsApp message to: +91 8584931669 (Soham Pal)\"\"\"\n",
    "\n",
    "    html = \"\"\"<p>Dear Sir/Ma'am,</p>\n",
    "\n",
    "    <p>The biggest cultural exchange program between India and Japan is back, with a fresh line-up of events bringing Japanese culture, language, pop culture, food, arts, academia and industry all under one umbrella!</p>\n",
    "\n",
    "    <p>Despite the limitations of the current situation, Japan Habba 2021 was a grand success in its first ever online version of the event, garnering extensive national awareness.</p>\n",
    "\n",
    "    <p>In light of the 70th anniversary of Japan-India diplomatic relations this year, we hope to make Japan Habba 2022 a very special event. On this special occasion, we would like to add a new flavor to Japan Habba, by inviting proposals for events hosted during Japan Habba 2022.</p>\n",
    "\n",
    "    <p><b>Do you have an idea you'd like to see realized at Japan Habba 2022?</b></p>\n",
    "\n",
    "    <p>Tell us your ideas and how you would implement it. Work with us and see your idea come to life on Japan Habba 2022 (held online) this April. For more details, please check 📎 the attachment.</p>\n",
    "\n",
    "    <p>Looking forward to your applications!</p>\n",
    "    \n",
    "    <p style=\"color: red;\">(Please note that Silver, Gold and Platinum Sponsorship for Japan Habba will be made available separately shortly. We will contact you regarding this.)</p>\n",
    "\n",
    "    <p>For any queries, please <a href=\"https://wa.me/918584931669\">send a WhatsApp message to +918584931669 (Soham Pal)</a>.</p>\n",
    "    \"\"\"\n",
    "\n",
    "    # Record the MIME types of both parts - text/plain and text/html.\n",
    "    part1 = MIMEText(text, 'plain')\n",
    "    part2 = MIMEText(html, 'html')\n",
    "\n",
    "    # Attach parts into message container.\n",
    "    # According to RFC 2046, the last part of a multipart message, in this case\n",
    "    # the HTML message, is best and preferred.\n",
    "    msg.attach(part1)\n",
    "    msg.attach(part2)\n",
    "\n",
    "    path = 'C:/Users/Soham/Downloads/'\n",
    "    filename = 'Host an Event at Japan Habba 2022.pdf'\n",
    "\n",
    "    with open(os.path.join(path, filename), 'rb') as f:\n",
    "        attachment = MIMEBase('application', 'pdf')\n",
    "        attachment.set_payload(f.read())\n",
    "        f.close()\n",
    "        encoders.encode_base64(attachment)\n",
    "        attachment.add_header(\"Content-Disposition\", \"attachment\", filename=filename)\n",
    "        attachment.add_header('Content-ID', '<{}>'.format(filename))\n",
    "        msg.attach(attachment)\n",
    "\n",
    "    # Send the message via local SMTP server.\n",
    "    s = smtplib.SMTP('smtp.gmail.com', 587)\n",
    "\n",
    "    # start TLS for security\n",
    "    s.starttls()\n",
    "\n",
    "    # Authentication\n",
    "    s.login(\"japanhabbapr@gmail.com\", \"jhpr2018\")\n",
    "\n",
    "    # sendmail function takes 3 arguments: sender's address, recipient's address\n",
    "    # and message to send - here it is sent as one string.\n",
    "    s.sendmail(me, you, msg.as_string())\n",
    "    s.quit()"
   ]
  },
  {
   "cell_type": "code",
   "execution_count": 33,
   "id": "1ea552ec",
   "metadata": {},
   "outputs": [],
   "source": [
    "send_email_generic('Indo-Japan Chamber Of Commerce and Industries, Karnataka', 'anjana@ijccik.org')"
   ]
  },
  {
   "cell_type": "code",
   "execution_count": 34,
   "id": "f7c51444",
   "metadata": {},
   "outputs": [],
   "source": [
    "send_email_generic('Indo-Japan Chamber Of Commerce and Industries, Karnataka', 'ijcci@ijccik.org')"
   ]
  },
  {
   "cell_type": "code",
   "execution_count": 35,
   "id": "478c6b10",
   "metadata": {},
   "outputs": [],
   "source": [
    "send_email_generic('Bangalore Nihongo Kyooshikai', 'pr.bangalorenihongokyoushikai@gmail.com')"
   ]
  },
  {
   "cell_type": "code",
   "execution_count": 36,
   "id": "1d1653e3",
   "metadata": {},
   "outputs": [],
   "source": [
    "send_email_generic('Bangalore Nihongo Kyooshikai', 'sowmini.r@gmail.com')"
   ]
  }
 ],
 "metadata": {
  "kernelspec": {
   "display_name": "Python 3 (ipykernel)",
   "language": "python",
   "name": "python3"
  },
  "language_info": {
   "codemirror_mode": {
    "name": "ipython",
    "version": 3
   },
   "file_extension": ".py",
   "mimetype": "text/x-python",
   "name": "python",
   "nbconvert_exporter": "python",
   "pygments_lexer": "ipython3",
   "version": "3.9.5"
  }
 },
 "nbformat": 4,
 "nbformat_minor": 5
}
