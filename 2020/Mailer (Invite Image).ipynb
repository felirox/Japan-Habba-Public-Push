{
 "cells": [
  {
   "cell_type": "code",
   "execution_count": 1,
   "id": "2d6c0e56",
   "metadata": {},
   "outputs": [],
   "source": [
    "import smtplib, os\n",
    "\n",
    "from email.utils import formataddr\n",
    "from email.mime.multipart import MIMEMultipart\n",
    "from email.mime.text import MIMEText\n",
    "from email.mime.base import MIMEBase\n",
    "from email import encoders"
   ]
  },
  {
   "cell_type": "code",
   "execution_count": 2,
   "id": "3aa9fb70",
   "metadata": {},
   "outputs": [],
   "source": [
    "def send_email(company_name, person_name, person_email, cc=None):\n",
    "    # me == my email address\n",
    "    # you == recipient's email address\n",
    "    me = formataddr(('Japan Habba Public Relations', 'japanhabbapr@gmail.com')) #\"japanhabbapr@gmail.com\"\n",
    "    you = formataddr((person_name, person_email)) #\"pikachuzhome@gmail.com\"\n",
    "\n",
    "    # Create message container - the correct MIME type is multipart/alternative.\n",
    "    msg = MIMEMultipart('alternative')\n",
    "    msg['Subject'] = \"Invitation to Japan Habba 2022: Meet and Greet\"\n",
    "    msg['From'] = me\n",
    "    msg['To'] = you\n",
    "    \n",
    "    if cc is not None:\n",
    "        msg['Cc'] = cc\n",
    "\n",
    "    # Create the body of the message (a plain-text and an HTML version).\n",
    "    text_rep = \"\"\"Dear {},\n",
    "\n",
    "Greetings from the Japan Habba Organising Committee!\n",
    "\n",
    "We are delighted to invite you as a representative of {} to a Meet & Greet for all our patrons. It is scheduled to take place on the 16th of July 2022 between 18:30 and 20:30 at The Courtyard, Shantinagar, Bengaluru:\n",
    "\n",
    "https://g.page/thecourtyardcommunity\n",
    "\n",
    "We would be honoured if you would grace the occasion and the share in the celebrations. Please find the invitation attached for your kind perusal.\n",
    "\n",
    "Thank you once again for all your support!\"\"\"\n",
    "\n",
    "    html_rep = \"\"\"<p>Dear {},</p>\n",
    "    <p>Greetings from the Japan Habba Organising Committee!</p>\n",
    "    <p>We are delighted to invite you as a representative of <b>{}</b> to a Meet & Greet for all our patrons. It is scheduled to take place on the 16th of July 2022 between 18:30 and 20:30 at <a href=\"https://g.page/thecourtyardcommunity\" target=\"_blank\">The Courtyard, Shantinagar, Bengaluru</a>.</p>\n",
    "    <p>We would be honoured if you would grace the occasion and the share in the celebrations. Please find the invitation attached for your kind perusal.</p>\n",
    "    <p>Thank you once again for all your support!</p>\"\"\"\n",
    "    \n",
    "    text_norep = \"\"\"Dear {},\n",
    "\n",
    "Greetings from the Japan Habba Organising Committee!\n",
    "\n",
    "We are delighted to invite you to a Meet & Greet for all our patrons. It is scheduled to take place on the 16th of July 2022 between 18:30 and 20:30 at The Courtyard, Shantinagar, Bengaluru:\n",
    "\n",
    "https://g.page/thecourtyardcommunity\n",
    "\n",
    "We would be honoured if you would grace the occasion and the share in the celebrations. Please find the invitation attached for your kind perusal.\n",
    "\n",
    "Thank you once again for all your support!\"\"\"\n",
    "\n",
    "    html_norep = \"\"\"<p>Dear {},</p>\n",
    "    <p>Greetings from the Japan Habba Organising Committee!</p>\n",
    "    <p>We are delighted to invite you to a Meet & Greet for all our patrons. It is scheduled to take place on the 16th of July 2022 between 18:30 and 20:30 at <a href=\"https://g.page/thecourtyardcommunity\" target=\"_blank\">The Courtyard, Shantinagar, Bengaluru</a>.</p>\n",
    "    <p>We would be honoured if you would grace the occasion and the share in the celebrations. Please find the invitation attached for your kind perusal.</p>\n",
    "    <p>Thank you once again for all your support!</p>\"\"\"\n",
    "\n",
    "    # Record the MIME types of both parts - text/plain and text/html.\n",
    "    if company_name is not None:\n",
    "        part1 = MIMEText(text_rep.format(person_name, company_name), 'plain')\n",
    "        part2 = MIMEText(html_rep.format(person_name, company_name), 'html')\n",
    "    else:\n",
    "        part1 = MIMEText(text_norep.format(person_name), 'plain')\n",
    "        part2 = MIMEText(html_norep.format(person_name), 'html')\n",
    "        \n",
    "    # Attach parts into message container.\n",
    "    # According to RFC 2046, the last part of a multipart message, in this case\n",
    "    # the HTML message, is best and preferred.\n",
    "    msg.attach(part1)\n",
    "    msg.attach(part2)\n",
    "\n",
    "    path = 'C:/Users/Soham/OneDrive/Desktop/'\n",
    "    filename = 'Invitation.png'\n",
    "\n",
    "    with open(os.path.join(path, filename), 'rb') as f:\n",
    "        attachment = MIMEBase('image', 'png')\n",
    "        attachment.set_payload(f.read())\n",
    "        f.close()\n",
    "        encoders.encode_base64(attachment)\n",
    "        attachment.add_header(\"Content-Disposition\", \"attachment\", filename=filename)\n",
    "        attachment.add_header('Content-ID', '<{}>'.format(filename))\n",
    "        msg.attach(attachment)\n",
    "\n",
    "    # Send the message via local SMTP server.\n",
    "    s = smtplib.SMTP('smtp.gmail.com', 587)\n",
    "\n",
    "    # start TLS for security\n",
    "    s.starttls()\n",
    "\n",
    "    # Authentication\n",
    "    s.login(\"japanhabbapr@gmail.com\", \"csccukuvhvdbodap\")\n",
    "\n",
    "    # sendmail function takes 3 arguments: sender's address, recipient's address\n",
    "    # and message to send - here it is sent as one string.\n",
    "    s.sendmail(me, you, msg.as_string())\n",
    "    s.quit()"
   ]
  },
  {
   "cell_type": "code",
   "execution_count": 3,
   "id": "201dbb31",
   "metadata": {},
   "outputs": [],
   "source": [
    "import pandas as pd"
   ]
  },
  {
   "cell_type": "code",
   "execution_count": 4,
   "id": "11be304b",
   "metadata": {},
   "outputs": [],
   "source": [
    "df = pd.read_csv('C:/Users/Soham/Downloads/to_mail.csv')"
   ]
  },
  {
   "cell_type": "code",
   "execution_count": 5,
   "id": "0ccfe01d",
   "metadata": {},
   "outputs": [],
   "source": [
    "from tqdm import tqdm"
   ]
  },
  {
   "cell_type": "code",
   "execution_count": null,
   "id": "866532e8",
   "metadata": {},
   "outputs": [
    {
     "name": "stderr",
     "output_type": "stream",
     "text": [
      "\r",
      "0it [00:00, ?it/s]"
     ]
    },
    {
     "name": "stdout",
     "output_type": "stream",
     "text": [
      "ACZ Global Pvt. Ltd. Suresh Suchindran suresh@aczglobal.com\n"
     ]
    },
    {
     "name": "stderr",
     "output_type": "stream",
     "text": [
      "\r",
      "1it [00:34, 34.04s/it]"
     ]
    },
    {
     "name": "stdout",
     "output_type": "stream",
     "text": [
      "ACZ Global Pvt. Ltd. Yesudas yesudas@oceanlearningacademy.com\n"
     ]
    },
    {
     "name": "stderr",
     "output_type": "stream",
     "text": [
      "\r",
      "2it [01:07, 33.56s/it]"
     ]
    },
    {
     "name": "stdout",
     "output_type": "stream",
     "text": [
      "Amada Weld Tech India Pvt. Ltd. Tsutomu Koide koide-tsutomu@amada.co.jp\n"
     ]
    },
    {
     "name": "stderr",
     "output_type": "stream",
     "text": [
      "\r",
      "3it [01:40, 33.52s/it]"
     ]
    },
    {
     "name": "stdout",
     "output_type": "stream",
     "text": [
      "Amada Weld Tech India Pvt. Ltd. Balachander M. balachander@amadaweldtech.in\n"
     ]
    },
    {
     "name": "stderr",
     "output_type": "stream",
     "text": [
      "\r",
      "4it [02:13, 33.07s/it]"
     ]
    },
    {
     "name": "stdout",
     "output_type": "stream",
     "text": [
      "Bangalore Nihongo Kyooshikai  Geetha Menon gmenon01@gmail.com\n"
     ]
    },
    {
     "name": "stderr",
     "output_type": "stream",
     "text": [
      "\r",
      "5it [02:46, 33.06s/it]"
     ]
    },
    {
     "name": "stdout",
     "output_type": "stream",
     "text": [
      "Bangalore Nihongo Kyooshikai  Srividhya A. srividhya_01@yahoo.co.in\n"
     ]
    },
    {
     "name": "stderr",
     "output_type": "stream",
     "text": [
      "\r",
      "6it [03:19, 33.17s/it]"
     ]
    },
    {
     "name": "stdout",
     "output_type": "stream",
     "text": [
      "Fujitsu Consulting India Vishal Bulbule Vishal.Bulbule@fujitsu.com\n"
     ]
    },
    {
     "name": "stderr",
     "output_type": "stream",
     "text": [
      "\r",
      "7it [03:51, 32.77s/it]"
     ]
    },
    {
     "name": "stdout",
     "output_type": "stream",
     "text": [
      "Fujitsu Consulting India Dipalee Kulkarni Dipalee.Kulkarni@fujitsu.com\n"
     ]
    },
    {
     "name": "stderr",
     "output_type": "stream",
     "text": [
      "\r",
      "8it [04:26, 33.33s/it]"
     ]
    },
    {
     "name": "stdout",
     "output_type": "stream",
     "text": [
      "Meiban R. Krishnan admin@meibanengg.com\n"
     ]
    },
    {
     "name": "stderr",
     "output_type": "stream",
     "text": [
      "\r",
      "9it [04:59, 33.38s/it]"
     ]
    },
    {
     "name": "stdout",
     "output_type": "stream",
     "text": [
      "Meiban S. G. Divakar accounts.bng@meibanengg.com\n"
     ]
    },
    {
     "name": "stderr",
     "output_type": "stream",
     "text": [
      "\r",
      "10it [05:34, 33.81s/it]"
     ]
    },
    {
     "name": "stdout",
     "output_type": "stream",
     "text": [
      "Nichi-In Software solution Sammitha D. S. sammitha.ds@nichi.com\n"
     ]
    },
    {
     "name": "stderr",
     "output_type": "stream",
     "text": [
      "\r",
      "11it [06:06, 33.32s/it]"
     ]
    },
    {
     "name": "stdout",
     "output_type": "stream",
     "text": [
      "Nichi-In Software solution Sachin H. N. sachin.nagaraja@gmail.com\n"
     ]
    },
    {
     "name": "stderr",
     "output_type": "stream",
     "text": [
      "\r",
      "12it [06:38, 32.80s/it]"
     ]
    },
    {
     "name": "stdout",
     "output_type": "stream",
     "text": [
      "NILI - Nihongo Language Institute Pallabi Ghoshal Chaudhury pallabi.ghoshal@gmail.com\n"
     ]
    },
    {
     "name": "stderr",
     "output_type": "stream",
     "text": [
      "\r",
      "13it [07:10, 32.65s/it]"
     ]
    },
    {
     "name": "stdout",
     "output_type": "stream",
     "text": [
      "NILI - Nihongo Language Institute Dipti Singh diptishanker@gmail.com\n"
     ]
    },
    {
     "name": "stderr",
     "output_type": "stream",
     "text": [
      "\r",
      "14it [07:43, 32.85s/it]"
     ]
    },
    {
     "name": "stdout",
     "output_type": "stream",
     "text": [
      "Rakuten India Enterprise Private Limited  Nalini George nalini.george@rakuten.com\n"
     ]
    },
    {
     "name": "stderr",
     "output_type": "stream",
     "text": [
      "\r",
      "15it [08:17, 32.98s/it]"
     ]
    },
    {
     "name": "stdout",
     "output_type": "stream",
     "text": [
      "Rakuten India Enterprise Private Limited  Dhananjaya H. dhananjaya.h@rakuten.com\n"
     ]
    },
    {
     "name": "stderr",
     "output_type": "stream",
     "text": [
      "\r",
      "16it [08:49, 32.93s/it]"
     ]
    },
    {
     "name": "stdout",
     "output_type": "stream",
     "text": [
      "Sakuraa India Foundation Ranganath Meti ranganath.sakura1@gmail.com\n"
     ]
    },
    {
     "name": "stderr",
     "output_type": "stream",
     "text": [
      "\r",
      "17it [09:23, 33.13s/it]"
     ]
    },
    {
     "name": "stdout",
     "output_type": "stream",
     "text": [
      "Sakuraa India Foundation Kavitha kavitharm@gmail.com\n"
     ]
    },
    {
     "name": "stderr",
     "output_type": "stream",
     "text": [
      "\r",
      "18it [09:56, 33.18s/it]"
     ]
    },
    {
     "name": "stdout",
     "output_type": "stream",
     "text": [
      "Sakuraa Nihongo Resource Centre Rama S. C. info@snrc.co.in\n"
     ]
    },
    {
     "name": "stderr",
     "output_type": "stream",
     "text": [
      "\r",
      "19it [10:31, 33.53s/it]"
     ]
    },
    {
     "name": "stdout",
     "output_type": "stream",
     "text": [
      "Sakuraa Nihongo Resource Centre Sowmini Ramakrishnan sowmini@snrc.co.in\n"
     ]
    },
    {
     "name": "stderr",
     "output_type": "stream",
     "text": [
      "\r",
      "20it [11:03, 33.35s/it]"
     ]
    },
    {
     "name": "stdout",
     "output_type": "stream",
     "text": [
      "SOLIZE India Technologies Pvt. Ltd. Archana Bhambhani archana.bh@solize.com\n"
     ]
    },
    {
     "name": "stderr",
     "output_type": "stream",
     "text": [
      "\r",
      "21it [11:36, 33.23s/it]"
     ]
    },
    {
     "name": "stdout",
     "output_type": "stream",
     "text": [
      "SOLIZE India Technologies Pvt. Ltd. Rajesh Jaganathan rajesh.jaganathan@solize.com\n"
     ]
    },
    {
     "name": "stderr",
     "output_type": "stream",
     "text": [
      "\r",
      "22it [12:11, 33.59s/it]"
     ]
    },
    {
     "name": "stdout",
     "output_type": "stream",
     "text": [
      "Takshasila Hospitals Operating Private Limited (Sakra World Hospital)  Yuichi Nagano yuichi.nagano@sakraworldhospital.com\n"
     ]
    },
    {
     "name": "stderr",
     "output_type": "stream",
     "text": [
      "\r",
      "23it [12:44, 33.34s/it]"
     ]
    },
    {
     "name": "stdout",
     "output_type": "stream",
     "text": [
      "Takshasila Hospitals Operating Private Limited (Sakra World Hospital)  Naoya Matsumi Naoya.Matsumi@sakraworldhospital.com\n"
     ]
    },
    {
     "name": "stderr",
     "output_type": "stream",
     "text": [
      "\r",
      "24it [13:18, 33.63s/it]"
     ]
    },
    {
     "name": "stdout",
     "output_type": "stream",
     "text": [
      "Toonmedia Kaori Aruga ka@toonmediaglobal.com\n"
     ]
    },
    {
     "name": "stderr",
     "output_type": "stream",
     "text": [
      "\r",
      "25it [13:52, 33.65s/it]"
     ]
    },
    {
     "name": "stdout",
     "output_type": "stream",
     "text": [
      "Toshiba Software (India) Pvt. Ltd. Ramdas Baliga ramdas.baliga@toshiba-tsip.com\n"
     ]
    },
    {
     "name": "stderr",
     "output_type": "stream",
     "text": [
      "\r",
      "26it [14:25, 33.54s/it]"
     ]
    },
    {
     "name": "stdout",
     "output_type": "stream",
     "text": [
      "Toshiba Software (India) Pvt. Ltd. Takashi Ishikawa takashi.ishikawa@toshiba.co.jp\n"
     ]
    },
    {
     "name": "stderr",
     "output_type": "stream",
     "text": [
      "\r",
      "27it [14:57, 33.11s/it]"
     ]
    },
    {
     "name": "stdout",
     "output_type": "stream",
     "text": [
      "Toyota Kirloskar Auto Parts Pvt. Ltd. Shivayogi Shellikeri shivayogi@tkap.co.in\n"
     ]
    },
    {
     "name": "stderr",
     "output_type": "stream",
     "text": [
      "\r",
      "28it [15:30, 32.99s/it]"
     ]
    },
    {
     "name": "stdout",
     "output_type": "stream",
     "text": [
      "Skipping Vijayalakshmi, Toyota Kirloskar Auto Parts Pvt. Ltd. (no email)...\n",
      "Toyota Kirloskar Motor Pvt. Ltd. Kiran H. J. kiranhj@toyota-kirloskar.co.in\n"
     ]
    },
    {
     "name": "stderr",
     "output_type": "stream",
     "text": [
      "\r",
      "30it [16:04, 25.64s/it]"
     ]
    },
    {
     "name": "stdout",
     "output_type": "stream",
     "text": [
      "Toyota Kirloskar Motor Pvt. Ltd. Prashanth D. prashanthnaidu@toyota-kirloskar.co.in\n"
     ]
    },
    {
     "name": "stderr",
     "output_type": "stream",
     "text": [
      "\r",
      "31it [16:36, 27.37s/it]"
     ]
    },
    {
     "name": "stdout",
     "output_type": "stream",
     "text": [
      "VeCrear Technologies Private Limited Rajeev S. G. rajeev.sg@vecrear.com\n"
     ]
    },
    {
     "name": "stderr",
     "output_type": "stream",
     "text": [
      "\r",
      "32it [17:09, 28.70s/it]"
     ]
    },
    {
     "name": "stdout",
     "output_type": "stream",
     "text": [
      "VeCrear Technologies Private Limited Veena Samartha vs@vecrear.com\n"
     ]
    },
    {
     "name": "stderr",
     "output_type": "stream",
     "text": [
      "\r",
      "33it [17:43, 30.06s/it]"
     ]
    },
    {
     "name": "stdout",
     "output_type": "stream",
     "text": [
      "Yakult Danone India Pvt. Ltd. Harikishore hari.k@yakult.co.in\n"
     ]
    },
    {
     "name": "stderr",
     "output_type": "stream",
     "text": [
      "\r",
      "34it [18:16, 31.08s/it]"
     ]
    },
    {
     "name": "stdout",
     "output_type": "stream",
     "text": [
      "Yakult Danone India Pvt. Ltd. Sudheer Raikar sudheer.rayker@yakult.co.in\n"
     ]
    },
    {
     "name": "stderr",
     "output_type": "stream",
     "text": [
      "\r",
      "35it [18:52, 32.29s/it]"
     ]
    },
    {
     "name": "stdout",
     "output_type": "stream",
     "text": [
      "Zinnov Sabari Charan sabari.charan@zinnov.com\n"
     ]
    },
    {
     "name": "stderr",
     "output_type": "stream",
     "text": [
      "\r",
      "36it [19:25, 32.66s/it]"
     ]
    },
    {
     "name": "stdout",
     "output_type": "stream",
     "text": [
      "Zinnov Gaurav Malhotra gaurav@zinnov.com\n"
     ]
    },
    {
     "name": "stderr",
     "output_type": "stream",
     "text": [
      "\r",
      "37it [19:58, 32.64s/it]"
     ]
    },
    {
     "name": "stdout",
     "output_type": "stream",
     "text": [
      "JETRO Bengaluru Saki Kuratani Saki_Kuratani@jetro.go.jp\n"
     ]
    },
    {
     "name": "stderr",
     "output_type": "stream",
     "text": [
      "\r",
      "38it [20:31, 32.71s/it]"
     ]
    },
    {
     "name": "stdout",
     "output_type": "stream",
     "text": [
      "JETRO Bengaluru Dashmi Parthan Dashmi_Parthan@jetro.go.jp\n"
     ]
    },
    {
     "name": "stderr",
     "output_type": "stream",
     "text": [
      "\r",
      "39it [21:05, 33.21s/it]"
     ]
    },
    {
     "name": "stdout",
     "output_type": "stream",
     "text": [
      "JETRO Bengaluru Yuna Natsumi Yuna_Natsumi@jetro.go.jp\n"
     ]
    },
    {
     "name": "stderr",
     "output_type": "stream",
     "text": [
      "\r",
      "40it [21:39, 33.57s/it]"
     ]
    },
    {
     "name": "stdout",
     "output_type": "stream",
     "text": [
      "JETRO Bengaluru Takashi Suzuki Takashi_Suzuki@jetro.go.jp\n"
     ]
    },
    {
     "name": "stderr",
     "output_type": "stream",
     "text": [
      "\r",
      "41it [22:13, 33.67s/it]"
     ]
    },
    {
     "name": "stdout",
     "output_type": "stream",
     "text": [
      "None Vijay Nandani Vijay1008vn@gmail.com\n"
     ]
    },
    {
     "name": "stderr",
     "output_type": "stream",
     "text": [
      "\r",
      "42it [22:47, 33.67s/it]"
     ]
    },
    {
     "name": "stdout",
     "output_type": "stream",
     "text": [
      "None Masae Raghavendra masae.raghavendra@gmail.com\n"
     ]
    }
   ],
   "source": [
    "count = 0\n",
    "\n",
    "for index, row in tqdm(df.iterrows()):\n",
    "    company_name = row['Company']\n",
    "    person_name = row['Name']\n",
    "    person_email = row['Email']\n",
    "    \n",
    "    if pd.isnull(person_email):\n",
    "        print('Skipping {}, {} (no email)...'.format(person_name, company_name))\n",
    "        continue\n",
    "        \n",
    "    if pd.isnull(company_name):\n",
    "        company_name = None\n",
    "    \n",
    "    print(company_name, person_name, person_email)\n",
    "    send_email(company_name, person_name, person_email)"
   ]
  },
  {
   "cell_type": "code",
   "execution_count": null,
   "id": "57173a05",
   "metadata": {},
   "outputs": [],
   "source": [
    "import os\n",
    "\n",
    "os.system(\"shutdown /s /t 1\")"
   ]
  }
 ],
 "metadata": {
  "kernelspec": {
   "display_name": "Python 3 (ipykernel)",
   "language": "python",
   "name": "python3"
  },
  "language_info": {
   "codemirror_mode": {
    "name": "ipython",
    "version": 3
   },
   "file_extension": ".py",
   "mimetype": "text/x-python",
   "name": "python",
   "nbconvert_exporter": "python",
   "pygments_lexer": "ipython3",
   "version": "3.9.5"
  }
 },
 "nbformat": 4,
 "nbformat_minor": 5
}
