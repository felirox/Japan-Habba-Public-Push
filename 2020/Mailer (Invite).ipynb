{
 "cells": [
  {
   "cell_type": "code",
   "execution_count": 1,
   "id": "2d6c0e56",
   "metadata": {},
   "outputs": [],
   "source": [
    "import smtplib, os\n",
    "\n",
    "from email.utils import formataddr\n",
    "from email.mime.multipart import MIMEMultipart\n",
    "from email.mime.text import MIMEText\n",
    "from email.mime.base import MIMEBase\n",
    "from email import encoders"
   ]
  },
  {
   "cell_type": "code",
   "execution_count": 2,
   "id": "3aa9fb70",
   "metadata": {},
   "outputs": [],
   "source": [
    "def send_email(company_name, person_name, person_email, cc=None):\n",
    "    # me == my email address\n",
    "    # you == recipient's email address\n",
    "    me = formataddr(('Japan Habba Public Relations', 'japanhabbapr@gmail.com')) #\"japanhabbapr@gmail.com\"\n",
    "    you = formataddr((person_name, person_email)) #\"pikachuzhome@gmail.com\"\n",
    "\n",
    "    # Create message container - the correct MIME type is multipart/alternative.\n",
    "    msg = MIMEMultipart('alternative')\n",
    "    msg['Subject'] = \"[Japan Habba] Invitation to an In-Person Meet and Greet\"\n",
    "    msg['From'] = me\n",
    "    msg['To'] = you\n",
    "    \n",
    "    if cc is not None:\n",
    "        msg['Cc'] = cc\n",
    "\n",
    "    # Create the body of the message (a plain-text and an HTML version).\n",
    "    text = \"\"\"Greetings from the Japan Habba Committee!\n",
    "\n",
    "    We are pleased to inform you that we are holding an in-person meet and greet over dinner for all our sponsors and our supporters from Governmental and Non-Governmental Indo-Japanese organizations, to thank you for your valuable support in making Japan Habba 2022 a success. \n",
    "\n",
    "    We would like to invite representatives from {} to join us on this special occasion (maximum: 2 representatives). \n",
    "\n",
    "    Date: July 16, Saturday (evening)\n",
    "    Venue: In Bangalore (close to the city center)\n",
    "\n",
    "    Please enter the name and contact details of the representatives from {} who would be attending the event, in the following google form. \n",
    "\n",
    "    https://forms.gle/PrWQ7oNEvtpSgePb6\n",
    "\n",
    "    A personal invite will be sent directly to the representatives, in a few days. We request you to submit the google form, latest by midnight on June 9 (this Thursday). \n",
    "\n",
    "    Thank you once again for all your support!\"\"\"\n",
    "\n",
    "    html = \"\"\"<p>Greetings from the Japan Habba Committee!</p>\n",
    "\n",
    "    <p>We are pleased to inform you that we are holding an in-person meet and greet over dinner for all our sponsors and our supporters from Governmental and Non-Governmental Indo-Japanese organizations, to thank you for your valuable support in making Japan Habba 2022 a success.</p>\n",
    "\n",
    "    <p>We would like to invite representatives from {} to join us on this special occasion (maximum: 2 representatives).</p>\n",
    "\n",
    "    <p><b>Date:</b> July 16, Saturday (evening)<br>\n",
    "    <b>Venue:</b> In Bangalore (close to the city center)</p>\n",
    "\n",
    "    <p>Please enter the name and contact details of the representatives from {} who would be attending the event, in the following google form:<br>\n",
    "    <a href=\"https://forms.gle/PrWQ7oNEvtpSgePb6\" target=\"_blank\">https://forms.gle/PrWQ7oNEvtpSgePb6</a></p>\n",
    "\n",
    "    <p>A personal invite will be sent directly to the representatives, in a few days. We request you to submit the google form, latest by midnight on June 9 (this Thursday).</p>\n",
    "\n",
    "    <p>Thank you once again for all your support!</p>\n",
    "    \"\"\"\n",
    "\n",
    "    # Record the MIME types of both parts - text/plain and text/html.\n",
    "    part1 = MIMEText(text.format(company_name, company_name), 'plain')\n",
    "    part2 = MIMEText(html.format(company_name, company_name), 'html')\n",
    "\n",
    "    # Attach parts into message container.\n",
    "    # According to RFC 2046, the last part of a multipart message, in this case\n",
    "    # the HTML message, is best and preferred.\n",
    "    msg.attach(part1)\n",
    "    msg.attach(part2)\n",
    "\n",
    "#     path = 'C:/Users/Soham/Downloads/'\n",
    "#     filename = 'JH22 Sponsorship.pdf'\n",
    "\n",
    "#     with open(os.path.join(path, filename), 'rb') as f:\n",
    "#         attachment = MIMEBase('application', 'pdf')\n",
    "#         attachment.set_payload(f.read())\n",
    "#         f.close()\n",
    "#         encoders.encode_base64(attachment)\n",
    "#         attachment.add_header(\"Content-Disposition\", \"attachment\", filename=filename)\n",
    "#         attachment.add_header('Content-ID', '<{}>'.format(filename))\n",
    "#         msg.attach(attachment)\n",
    "\n",
    "    # Send the message via local SMTP server.\n",
    "    s = smtplib.SMTP('smtp.gmail.com', 587)\n",
    "\n",
    "    # start TLS for security\n",
    "    s.starttls()\n",
    "\n",
    "    # Authentication\n",
    "    s.login(\"japanhabbapr@gmail.com\", \"csccukuvhvdbodap\")\n",
    "\n",
    "    # sendmail function takes 3 arguments: sender's address, recipient's address\n",
    "    # and message to send - here it is sent as one string.\n",
    "    s.sendmail(me, you, msg.as_string())\n",
    "    s.quit()"
   ]
  },
  {
   "cell_type": "code",
   "execution_count": null,
   "id": "c1fddaf6",
   "metadata": {},
   "outputs": [],
   "source": [
    "# send_email('Pop Circuit', 'Nikhil Ravikumar', 'popcircuitindia@gmail.com')"
   ]
  },
  {
   "cell_type": "code",
   "execution_count": 3,
   "id": "201dbb31",
   "metadata": {},
   "outputs": [],
   "source": [
    "import pandas as pd"
   ]
  },
  {
   "cell_type": "code",
   "execution_count": 4,
   "id": "11be304b",
   "metadata": {},
   "outputs": [],
   "source": [
    "df = pd.read_csv('C:/Users/Soham/Downloads/JH 22 Sponsorship & Outreach - Confirmed Sponsors.csv')"
   ]
  },
  {
   "cell_type": "code",
   "execution_count": null,
   "id": "ccaf2b7c",
   "metadata": {},
   "outputs": [],
   "source": [
    "# send_email('Meghna Co. Ltd.', 'Meghna', 'meghnavijaykumar27@gmail.com')"
   ]
  },
  {
   "cell_type": "code",
   "execution_count": null,
   "id": "cdaaaaf3",
   "metadata": {},
   "outputs": [],
   "source": [
    "# send_email('PikachuzNET', 'Soham', 'pikachuzhome@gmail.com')"
   ]
  },
  {
   "cell_type": "code",
   "execution_count": 5,
   "id": "0ccfe01d",
   "metadata": {},
   "outputs": [],
   "source": [
    "from tqdm import tqdm"
   ]
  },
  {
   "cell_type": "code",
   "execution_count": 9,
   "id": "866532e8",
   "metadata": {},
   "outputs": [
    {
     "name": "stderr",
     "output_type": "stream",
     "text": [
      "\r",
      "0it [00:00, ?it/s]"
     ]
    },
    {
     "name": "stdout",
     "output_type": "stream",
     "text": [
      "Yaskawa India Private Limited Bhumika B  Bhumika_b@yaskawa.in harish_bs@yahoo.com\n",
      "Nili - Nihongo Language Institute Pallabi Ghoshal Chaudhury info@nilijapanese.com pallabi.ghoshal@gmail.com\n",
      "Rakuten India Private Limited Enterprise Shubha Goel shubha.goel@rakuten.com ankit.gangwal@rakuten.com\n",
      "VeCrear Technologies Pvt. Ltd. Veena Samartha vs@vecrear.com rajeev.sg@vecrear.com\n",
      "Yokogawa India Limited K Rajagopalan k.rajagopalan@yokogawa.com anant.tavag@yokogawa.com\n",
      "Amada Weld Tech India Pvt. Ltd. Tsutomu Koide koide-tsutomu@amada.co.jp None\n"
     ]
    },
    {
     "name": "stderr",
     "output_type": "stream",
     "text": [
      "25it [00:06,  3.67it/s]"
     ]
    },
    {
     "name": "stdout",
     "output_type": "stream",
     "text": [
      "Neuroglia Heath Private Limited Natasha Martin nm@dailyrounds.org yashna.umriger@dailyrounds.org\n",
      "ToonMedia Consulting Pvt. Ltd. Kaori Aruga ka@toonmediaglobal.com bgsreedhara@gmail.com\n",
      "Sakuraa India Foundation Ranganath Meti ranganath.sakura1@gmail.com bgs@sakuraaindiafoundation.org\n",
      "Sakuraa Nihongo Resource Centre Rama S C info@snrc.co.in bizdev@snrc.co.in\n",
      "Yakult Danone India Pvt. Ltd.  Hari Kishor hari.k@yakult.co.in vijay.mahantesh@yakult.co.in\n",
      "Toshiba Software India Pvt. Ltd. Takashi Ishikawa takashi.ishikawa@toshiba.co.jp narasimham.putcha@toshiba-tsip.com\n",
      "Solize India Techologies Pvt. Ltd. Nitesh Kumar Yadav nitesh.ky@solize.com shubha.tg@solize.com\n",
      "Bangalore Nihongo Kyooshikai Aparna Shivaram Iyer jlptbnk07@gmail.com pr.bangalorenihongokyoushikai@gmail.com\n",
      "Sony India Software Centre Pvt. Ltd. Yoichi Oda Yoichi.Oda@ap.sony.com Muthuraj.Adiga@sony.com\n",
      "ACZ Global Pvt. Ltd. Suresh Suchindran suresh@aczglobal.com sureshsuchindran@gmail.com\n",
      "Nichi-In Sofware Solutions Pvt. Ltd. P. Manjunath manju@nichi.com naresh@nichi.com\n",
      "Zinnov Management Consulting Private Limited Sabari Charan sabari.charan@zinnov.com gaurav@zinnov.com\n",
      "Takshasila Hospitals Operating Private Limited (Sakra World Hospital) Suresh Lamani suresh.lamani@sakraworldhospital.com None\n",
      "Fujitsu Consulting India Mitali Joglekar mitali.joglekar@fujitsu.com rutweek.deshmukh@fujitsu.com\n",
      "Makino India Pvt. Ltd. Namritha M.S namrithams@makino.co.in None\n",
      "Mercari Inc Kayo Osumi kayo.osumi@mercari.com shoma.dutta@zinnov.com\n",
      "Meiban Engineering Technologies Pvt. Ltd. Srinivasan AV office@meibanengg.com srini@meibanengg.com\n",
      "TKAP Shivayogi Shellikeri shivayogi@tkap.co.in None\n",
      "Toyota Kirloskar Motor Pvt. Ltd. Minako Kanemoto minako_kanemoto@toyota-kirloskar.co.in prashanthnaidu@toyota-kirloskar.co.in\n"
     ]
    },
    {
     "name": "stderr",
     "output_type": "stream",
     "text": [
      "\n"
     ]
    }
   ],
   "source": [
    "count = 0\n",
    "\n",
    "for index, row in tqdm(df.iterrows()):\n",
    "    company_name = row['company_name']\n",
    "    person_name = row['contact_person_name']\n",
    "    person_email = row['email']\n",
    "    cc_email = row['alternate_email']\n",
    "    \n",
    "    if pd.isnull(cc_email):\n",
    "        cc_email = None\n",
    "    \n",
    "    print(company_name, person_name, person_email, cc_email)\n",
    "    \n",
    "    if count == 5: \n",
    "        send_email(company_name, person_name, person_email, cc=cc_email)\n",
    "        \n",
    "    count += 1"
   ]
  },
  {
   "cell_type": "code",
   "execution_count": 7,
   "id": "87c3e93e",
   "metadata": {},
   "outputs": [
    {
     "data": {
      "text/plain": [
       "0"
      ]
     },
     "execution_count": 7,
     "metadata": {},
     "output_type": "execute_result"
    }
   ],
   "source": [
    "count"
   ]
  },
  {
   "cell_type": "code",
   "execution_count": 6,
   "id": "716eebb0",
   "metadata": {
    "scrolled": true
   },
   "outputs": [
    {
     "name": "stderr",
     "output_type": "stream",
     "text": [
      "\r",
      "0it [00:00, ?it/s]"
     ]
    },
    {
     "name": "stdout",
     "output_type": "stream",
     "text": [
      "Yaskawa India Private Limited Bhumika B  Bhumika_b@yaskawa.in harish_bs@yahoo.com\n"
     ]
    },
    {
     "name": "stderr",
     "output_type": "stream",
     "text": [
      "\r",
      "1it [00:06,  6.78s/it]"
     ]
    },
    {
     "name": "stdout",
     "output_type": "stream",
     "text": [
      "Nili - Nihongo Language Institute Pallabi Ghoshal Chaudhury info@nilijapanese.com pallabi.ghoshal@gmail.com\n"
     ]
    },
    {
     "name": "stderr",
     "output_type": "stream",
     "text": [
      "\r",
      "2it [00:13,  6.68s/it]"
     ]
    },
    {
     "name": "stdout",
     "output_type": "stream",
     "text": [
      "Rakuten India Private Limited Enterprise Shubha Goel shubha.goel@rakuten.com ankit.gangwal@rakuten.com\n"
     ]
    },
    {
     "name": "stderr",
     "output_type": "stream",
     "text": [
      "\r",
      "3it [00:20,  6.69s/it]"
     ]
    },
    {
     "name": "stdout",
     "output_type": "stream",
     "text": [
      "VeCrear Technologies Pvt. Ltd. Veena Samartha vs@vecrear.com rajeev.sg@vecrear.com\n"
     ]
    },
    {
     "name": "stderr",
     "output_type": "stream",
     "text": [
      "\r",
      "4it [00:27,  6.80s/it]"
     ]
    },
    {
     "name": "stdout",
     "output_type": "stream",
     "text": [
      "Yokogawa India Limited K Rajagopalan k.rajagopalan@yokogawa.com anant.tavag@yokogawa.com\n"
     ]
    },
    {
     "name": "stderr",
     "output_type": "stream",
     "text": [
      "\r",
      "5it [00:34,  7.01s/it]"
     ]
    },
    {
     "name": "stdout",
     "output_type": "stream",
     "text": [
      "Amada Weld Tech India Pvt. Ltd. Tsutomu Koide koide-tsutomu@amada.co.jp nan\n"
     ]
    },
    {
     "name": "stderr",
     "output_type": "stream",
     "text": [
      "5it [00:39,  7.91s/it]\n"
     ]
    },
    {
     "ename": "AttributeError",
     "evalue": "'float' object has no attribute 'encode'",
     "output_type": "error",
     "traceback": [
      "\u001b[1;31m---------------------------------------------------------------------------\u001b[0m",
      "\u001b[1;31mAttributeError\u001b[0m                            Traceback (most recent call last)",
      "\u001b[1;32m~\\AppData\\Local\\Temp\\ipykernel_10384\\3992874501.py\u001b[0m in \u001b[0;36m<module>\u001b[1;34m\u001b[0m\n\u001b[0;32m      8\u001b[0m \u001b[1;33m\u001b[0m\u001b[0m\n\u001b[0;32m      9\u001b[0m     \u001b[0mprint\u001b[0m\u001b[1;33m(\u001b[0m\u001b[0mcompany_name\u001b[0m\u001b[1;33m,\u001b[0m \u001b[0mperson_name\u001b[0m\u001b[1;33m,\u001b[0m \u001b[0mperson_email\u001b[0m\u001b[1;33m,\u001b[0m \u001b[0mcc_email\u001b[0m\u001b[1;33m)\u001b[0m\u001b[1;33m\u001b[0m\u001b[1;33m\u001b[0m\u001b[0m\n\u001b[1;32m---> 10\u001b[1;33m     \u001b[0msend_email\u001b[0m\u001b[1;33m(\u001b[0m\u001b[0mcompany_name\u001b[0m\u001b[1;33m,\u001b[0m \u001b[0mperson_name\u001b[0m\u001b[1;33m,\u001b[0m \u001b[0mperson_email\u001b[0m\u001b[1;33m,\u001b[0m \u001b[0mcc\u001b[0m\u001b[1;33m=\u001b[0m\u001b[0mcc_email\u001b[0m\u001b[1;33m)\u001b[0m\u001b[1;33m\u001b[0m\u001b[1;33m\u001b[0m\u001b[0m\n\u001b[0m",
      "\u001b[1;32m~\\AppData\\Local\\Temp\\ipykernel_10384\\3109503541.py\u001b[0m in \u001b[0;36msend_email\u001b[1;34m(company_name, person_name, person_email, cc)\u001b[0m\n\u001b[0;32m     82\u001b[0m     \u001b[1;31m# sendmail function takes 3 arguments: sender's address, recipient's address\u001b[0m\u001b[1;33m\u001b[0m\u001b[1;33m\u001b[0m\u001b[1;33m\u001b[0m\u001b[0m\n\u001b[0;32m     83\u001b[0m     \u001b[1;31m# and message to send - here it is sent as one string.\u001b[0m\u001b[1;33m\u001b[0m\u001b[1;33m\u001b[0m\u001b[1;33m\u001b[0m\u001b[0m\n\u001b[1;32m---> 84\u001b[1;33m     \u001b[0ms\u001b[0m\u001b[1;33m.\u001b[0m\u001b[0msendmail\u001b[0m\u001b[1;33m(\u001b[0m\u001b[0mme\u001b[0m\u001b[1;33m,\u001b[0m \u001b[0myou\u001b[0m\u001b[1;33m,\u001b[0m \u001b[0mmsg\u001b[0m\u001b[1;33m.\u001b[0m\u001b[0mas_string\u001b[0m\u001b[1;33m(\u001b[0m\u001b[1;33m)\u001b[0m\u001b[1;33m)\u001b[0m\u001b[1;33m\u001b[0m\u001b[1;33m\u001b[0m\u001b[0m\n\u001b[0m\u001b[0;32m     85\u001b[0m     \u001b[0ms\u001b[0m\u001b[1;33m.\u001b[0m\u001b[0mquit\u001b[0m\u001b[1;33m(\u001b[0m\u001b[1;33m)\u001b[0m\u001b[1;33m\u001b[0m\u001b[1;33m\u001b[0m\u001b[0m\n",
      "\u001b[1;32mC:\\Python39\\lib\\email\\message.py\u001b[0m in \u001b[0;36mas_string\u001b[1;34m(self, unixfrom, maxheaderlen, policy)\u001b[0m\n\u001b[0;32m    156\u001b[0m                       \u001b[0mmaxheaderlen\u001b[0m\u001b[1;33m=\u001b[0m\u001b[0mmaxheaderlen\u001b[0m\u001b[1;33m,\u001b[0m\u001b[1;33m\u001b[0m\u001b[1;33m\u001b[0m\u001b[0m\n\u001b[0;32m    157\u001b[0m                       policy=policy)\n\u001b[1;32m--> 158\u001b[1;33m         \u001b[0mg\u001b[0m\u001b[1;33m.\u001b[0m\u001b[0mflatten\u001b[0m\u001b[1;33m(\u001b[0m\u001b[0mself\u001b[0m\u001b[1;33m,\u001b[0m \u001b[0munixfrom\u001b[0m\u001b[1;33m=\u001b[0m\u001b[0munixfrom\u001b[0m\u001b[1;33m)\u001b[0m\u001b[1;33m\u001b[0m\u001b[1;33m\u001b[0m\u001b[0m\n\u001b[0m\u001b[0;32m    159\u001b[0m         \u001b[1;32mreturn\u001b[0m \u001b[0mfp\u001b[0m\u001b[1;33m.\u001b[0m\u001b[0mgetvalue\u001b[0m\u001b[1;33m(\u001b[0m\u001b[1;33m)\u001b[0m\u001b[1;33m\u001b[0m\u001b[1;33m\u001b[0m\u001b[0m\n\u001b[0;32m    160\u001b[0m \u001b[1;33m\u001b[0m\u001b[0m\n",
      "\u001b[1;32mC:\\Python39\\lib\\email\\generator.py\u001b[0m in \u001b[0;36mflatten\u001b[1;34m(self, msg, unixfrom, linesep)\u001b[0m\n\u001b[0;32m    114\u001b[0m                     \u001b[0mufrom\u001b[0m \u001b[1;33m=\u001b[0m \u001b[1;34m'From nobody '\u001b[0m \u001b[1;33m+\u001b[0m \u001b[0mtime\u001b[0m\u001b[1;33m.\u001b[0m\u001b[0mctime\u001b[0m\u001b[1;33m(\u001b[0m\u001b[0mtime\u001b[0m\u001b[1;33m.\u001b[0m\u001b[0mtime\u001b[0m\u001b[1;33m(\u001b[0m\u001b[1;33m)\u001b[0m\u001b[1;33m)\u001b[0m\u001b[1;33m\u001b[0m\u001b[1;33m\u001b[0m\u001b[0m\n\u001b[0;32m    115\u001b[0m                 \u001b[0mself\u001b[0m\u001b[1;33m.\u001b[0m\u001b[0mwrite\u001b[0m\u001b[1;33m(\u001b[0m\u001b[0mufrom\u001b[0m \u001b[1;33m+\u001b[0m \u001b[0mself\u001b[0m\u001b[1;33m.\u001b[0m\u001b[0m_NL\u001b[0m\u001b[1;33m)\u001b[0m\u001b[1;33m\u001b[0m\u001b[1;33m\u001b[0m\u001b[0m\n\u001b[1;32m--> 116\u001b[1;33m             \u001b[0mself\u001b[0m\u001b[1;33m.\u001b[0m\u001b[0m_write\u001b[0m\u001b[1;33m(\u001b[0m\u001b[0mmsg\u001b[0m\u001b[1;33m)\u001b[0m\u001b[1;33m\u001b[0m\u001b[1;33m\u001b[0m\u001b[0m\n\u001b[0m\u001b[0;32m    117\u001b[0m         \u001b[1;32mfinally\u001b[0m\u001b[1;33m:\u001b[0m\u001b[1;33m\u001b[0m\u001b[1;33m\u001b[0m\u001b[0m\n\u001b[0;32m    118\u001b[0m             \u001b[0mself\u001b[0m\u001b[1;33m.\u001b[0m\u001b[0mpolicy\u001b[0m \u001b[1;33m=\u001b[0m \u001b[0mold_gen_policy\u001b[0m\u001b[1;33m\u001b[0m\u001b[1;33m\u001b[0m\u001b[0m\n",
      "\u001b[1;32mC:\\Python39\\lib\\email\\generator.py\u001b[0m in \u001b[0;36m_write\u001b[1;34m(self, msg)\u001b[0m\n\u001b[0;32m    197\u001b[0m         \u001b[0mmeth\u001b[0m \u001b[1;33m=\u001b[0m \u001b[0mgetattr\u001b[0m\u001b[1;33m(\u001b[0m\u001b[0mmsg\u001b[0m\u001b[1;33m,\u001b[0m \u001b[1;34m'_write_headers'\u001b[0m\u001b[1;33m,\u001b[0m \u001b[1;32mNone\u001b[0m\u001b[1;33m)\u001b[0m\u001b[1;33m\u001b[0m\u001b[1;33m\u001b[0m\u001b[0m\n\u001b[0;32m    198\u001b[0m         \u001b[1;32mif\u001b[0m \u001b[0mmeth\u001b[0m \u001b[1;32mis\u001b[0m \u001b[1;32mNone\u001b[0m\u001b[1;33m:\u001b[0m\u001b[1;33m\u001b[0m\u001b[1;33m\u001b[0m\u001b[0m\n\u001b[1;32m--> 199\u001b[1;33m             \u001b[0mself\u001b[0m\u001b[1;33m.\u001b[0m\u001b[0m_write_headers\u001b[0m\u001b[1;33m(\u001b[0m\u001b[0mmsg\u001b[0m\u001b[1;33m)\u001b[0m\u001b[1;33m\u001b[0m\u001b[1;33m\u001b[0m\u001b[0m\n\u001b[0m\u001b[0;32m    200\u001b[0m         \u001b[1;32melse\u001b[0m\u001b[1;33m:\u001b[0m\u001b[1;33m\u001b[0m\u001b[1;33m\u001b[0m\u001b[0m\n\u001b[0;32m    201\u001b[0m             \u001b[0mmeth\u001b[0m\u001b[1;33m(\u001b[0m\u001b[0mself\u001b[0m\u001b[1;33m)\u001b[0m\u001b[1;33m\u001b[0m\u001b[1;33m\u001b[0m\u001b[0m\n",
      "\u001b[1;32mC:\\Python39\\lib\\email\\generator.py\u001b[0m in \u001b[0;36m_write_headers\u001b[1;34m(self, msg)\u001b[0m\n\u001b[0;32m    224\u001b[0m     \u001b[1;32mdef\u001b[0m \u001b[0m_write_headers\u001b[0m\u001b[1;33m(\u001b[0m\u001b[0mself\u001b[0m\u001b[1;33m,\u001b[0m \u001b[0mmsg\u001b[0m\u001b[1;33m)\u001b[0m\u001b[1;33m:\u001b[0m\u001b[1;33m\u001b[0m\u001b[1;33m\u001b[0m\u001b[0m\n\u001b[0;32m    225\u001b[0m         \u001b[1;32mfor\u001b[0m \u001b[0mh\u001b[0m\u001b[1;33m,\u001b[0m \u001b[0mv\u001b[0m \u001b[1;32min\u001b[0m \u001b[0mmsg\u001b[0m\u001b[1;33m.\u001b[0m\u001b[0mraw_items\u001b[0m\u001b[1;33m(\u001b[0m\u001b[1;33m)\u001b[0m\u001b[1;33m:\u001b[0m\u001b[1;33m\u001b[0m\u001b[1;33m\u001b[0m\u001b[0m\n\u001b[1;32m--> 226\u001b[1;33m             \u001b[0mself\u001b[0m\u001b[1;33m.\u001b[0m\u001b[0mwrite\u001b[0m\u001b[1;33m(\u001b[0m\u001b[0mself\u001b[0m\u001b[1;33m.\u001b[0m\u001b[0mpolicy\u001b[0m\u001b[1;33m.\u001b[0m\u001b[0mfold\u001b[0m\u001b[1;33m(\u001b[0m\u001b[0mh\u001b[0m\u001b[1;33m,\u001b[0m \u001b[0mv\u001b[0m\u001b[1;33m)\u001b[0m\u001b[1;33m)\u001b[0m\u001b[1;33m\u001b[0m\u001b[1;33m\u001b[0m\u001b[0m\n\u001b[0m\u001b[0;32m    227\u001b[0m         \u001b[1;31m# A blank line always separates headers from body\u001b[0m\u001b[1;33m\u001b[0m\u001b[1;33m\u001b[0m\u001b[1;33m\u001b[0m\u001b[0m\n\u001b[0;32m    228\u001b[0m         \u001b[0mself\u001b[0m\u001b[1;33m.\u001b[0m\u001b[0mwrite\u001b[0m\u001b[1;33m(\u001b[0m\u001b[0mself\u001b[0m\u001b[1;33m.\u001b[0m\u001b[0m_NL\u001b[0m\u001b[1;33m)\u001b[0m\u001b[1;33m\u001b[0m\u001b[1;33m\u001b[0m\u001b[0m\n",
      "\u001b[1;32mC:\\Python39\\lib\\email\\_policybase.py\u001b[0m in \u001b[0;36mfold\u001b[1;34m(self, name, value)\u001b[0m\n\u001b[0;32m    324\u001b[0m \u001b[1;33m\u001b[0m\u001b[0m\n\u001b[0;32m    325\u001b[0m         \"\"\"\n\u001b[1;32m--> 326\u001b[1;33m         \u001b[1;32mreturn\u001b[0m \u001b[0mself\u001b[0m\u001b[1;33m.\u001b[0m\u001b[0m_fold\u001b[0m\u001b[1;33m(\u001b[0m\u001b[0mname\u001b[0m\u001b[1;33m,\u001b[0m \u001b[0mvalue\u001b[0m\u001b[1;33m,\u001b[0m \u001b[0msanitize\u001b[0m\u001b[1;33m=\u001b[0m\u001b[1;32mTrue\u001b[0m\u001b[1;33m)\u001b[0m\u001b[1;33m\u001b[0m\u001b[1;33m\u001b[0m\u001b[0m\n\u001b[0m\u001b[0;32m    327\u001b[0m \u001b[1;33m\u001b[0m\u001b[0m\n\u001b[0;32m    328\u001b[0m     \u001b[1;32mdef\u001b[0m \u001b[0mfold_binary\u001b[0m\u001b[1;33m(\u001b[0m\u001b[0mself\u001b[0m\u001b[1;33m,\u001b[0m \u001b[0mname\u001b[0m\u001b[1;33m,\u001b[0m \u001b[0mvalue\u001b[0m\u001b[1;33m)\u001b[0m\u001b[1;33m:\u001b[0m\u001b[1;33m\u001b[0m\u001b[1;33m\u001b[0m\u001b[0m\n",
      "\u001b[1;32mC:\\Python39\\lib\\email\\_policybase.py\u001b[0m in \u001b[0;36m_fold\u001b[1;34m(self, name, value, sanitize)\u001b[0m\n\u001b[0;32m    367\u001b[0m             \u001b[1;32mif\u001b[0m \u001b[0mself\u001b[0m\u001b[1;33m.\u001b[0m\u001b[0mmax_line_length\u001b[0m \u001b[1;32mis\u001b[0m \u001b[1;32mnot\u001b[0m \u001b[1;32mNone\u001b[0m\u001b[1;33m:\u001b[0m\u001b[1;33m\u001b[0m\u001b[1;33m\u001b[0m\u001b[0m\n\u001b[0;32m    368\u001b[0m                 \u001b[0mmaxlinelen\u001b[0m \u001b[1;33m=\u001b[0m \u001b[0mself\u001b[0m\u001b[1;33m.\u001b[0m\u001b[0mmax_line_length\u001b[0m\u001b[1;33m\u001b[0m\u001b[1;33m\u001b[0m\u001b[0m\n\u001b[1;32m--> 369\u001b[1;33m             \u001b[0mparts\u001b[0m\u001b[1;33m.\u001b[0m\u001b[0mappend\u001b[0m\u001b[1;33m(\u001b[0m\u001b[0mh\u001b[0m\u001b[1;33m.\u001b[0m\u001b[0mencode\u001b[0m\u001b[1;33m(\u001b[0m\u001b[0mlinesep\u001b[0m\u001b[1;33m=\u001b[0m\u001b[0mself\u001b[0m\u001b[1;33m.\u001b[0m\u001b[0mlinesep\u001b[0m\u001b[1;33m,\u001b[0m \u001b[0mmaxlinelen\u001b[0m\u001b[1;33m=\u001b[0m\u001b[0mmaxlinelen\u001b[0m\u001b[1;33m)\u001b[0m\u001b[1;33m)\u001b[0m\u001b[1;33m\u001b[0m\u001b[1;33m\u001b[0m\u001b[0m\n\u001b[0m\u001b[0;32m    370\u001b[0m         \u001b[0mparts\u001b[0m\u001b[1;33m.\u001b[0m\u001b[0mappend\u001b[0m\u001b[1;33m(\u001b[0m\u001b[0mself\u001b[0m\u001b[1;33m.\u001b[0m\u001b[0mlinesep\u001b[0m\u001b[1;33m)\u001b[0m\u001b[1;33m\u001b[0m\u001b[1;33m\u001b[0m\u001b[0m\n\u001b[0;32m    371\u001b[0m         \u001b[1;32mreturn\u001b[0m \u001b[1;34m''\u001b[0m\u001b[1;33m.\u001b[0m\u001b[0mjoin\u001b[0m\u001b[1;33m(\u001b[0m\u001b[0mparts\u001b[0m\u001b[1;33m)\u001b[0m\u001b[1;33m\u001b[0m\u001b[1;33m\u001b[0m\u001b[0m\n",
      "\u001b[1;31mAttributeError\u001b[0m: 'float' object has no attribute 'encode'"
     ]
    }
   ],
   "source": [
    "count = 0\n",
    "\n",
    "for index, row in tqdm(df.iterrows()):\n",
    "    company_name = row['company_name']\n",
    "    person_name = row['contact_person_name']\n",
    "    person_email = row['email']\n",
    "    cc_email = row['alternate_email']\n",
    "    \n",
    "    print(company_name, person_name, person_email, cc_email)\n",
    "    send_email(company_name, person_name, person_email, cc=cc_email)"
   ]
  },
  {
   "cell_type": "code",
   "execution_count": null,
   "id": "58a7ddb3",
   "metadata": {},
   "outputs": [],
   "source": [
    "send_email('Sakuraa India Foundation', 'Ranganath Meti K', 'info@sakuraaindiafoundation.org')"
   ]
  },
  {
   "cell_type": "code",
   "execution_count": null,
   "id": "701ade76",
   "metadata": {},
   "outputs": [],
   "source": [
    "send_email('Rie Masala Pvt. Ltd. (Azuki)', 'Rie Goto', 'riemasala@gmail.com')"
   ]
  },
  {
   "cell_type": "code",
   "execution_count": null,
   "id": "bab3b6f9",
   "metadata": {},
   "outputs": [],
   "source": [
    "send_email('Otsuka Foods India Pvt. Ltd.', 'Hirokazu Uematsu', 'uematsu.hirokazu@otsuka.jp')"
   ]
  },
  {
   "cell_type": "code",
   "execution_count": null,
   "id": "fcda811d",
   "metadata": {},
   "outputs": [],
   "source": [
    "def send_email_generic(name, person_email):\n",
    "    # me == my email address\n",
    "    # you == recipient's email address\n",
    "    me = formataddr(('Japan Habba Public Relations', 'japanhabbapr@gmail.com')) #\"japanhabbapr@gmail.com\"\n",
    "    you = formataddr((name, person_email)) #\"pikachuzhome@gmail.com\"\n",
    "\n",
    "    # Create message container - the correct MIME type is multipart/alternative.\n",
    "    msg = MIMEMultipart('alternative')\n",
    "    msg['Subject'] = \"Invitation to Sponsor Japan Habba 2022\"\n",
    "    msg['From'] = me\n",
    "    msg['To'] = you\n",
    "\n",
    "    # Create the body of the message (a plain-text and an HTML version).\n",
    "    text = \"\"\"Dear Sir/Ma'am,\n",
    "\n",
    "    Greetings from Japan Habba!\n",
    "    \n",
    "    This year, Japan Habba is shaping up to be an online platform for the celebration of India-Japan relations on a national scale.\n",
    "    \n",
    "    The team is hard at work planning events that solicit the cooperation of special interest groups from around the country.\n",
    "\n",
    "    We would like to invite you to support us in this endeavor by contributing as a sponsor.\n",
    "\n",
    "    This year, Japan Habba has 3 tiers of sponsorship: Silver, Gold and Platinum for Rs. 5,000, Rs. 10,000 and Rs. 20,000 respectively.\n",
    "    \n",
    "    All three tiers of sponsorship come with perks of advertisement, as well as participating in the Japan Habba Tech Fair, which will be attended by students and young working professionals from around the country. We hope that this will allow you to interact with bilingual and technical talent.\n",
    "\n",
    "    We are looking forward to your support!\n",
    "    \n",
    "    Please take a look at attached brochure for more information, and how to apply.\n",
    "    \n",
    "    (As a side note, please note that our Event Applications close on *February 15*. If you are interested in hosting an event at Japan Habba, independent of sponsorships, please send in your event applications soon! Please note that this is distinct from sponsorships.)\n",
    "\n",
    "    For any queries, please send a WhatsApp message to: +91-9449837370 (Anjana S.) or +91-9611417993 (Jenika Prajapati)\"\"\"\n",
    "\n",
    "    html = \"\"\"<p>Dear Sir/Ma'am,</p>\n",
    "\n",
    "    <p>Greetings from Japan Habba!</p>\n",
    "\n",
    "    <p>This year, Japan Habba is shaping up to be an online platform for the celebration of India-Japan relations on a national scale.</p>\n",
    "\n",
    "    <p>The team is hard at work planning events that solicit the cooperation of special interest groups from around the country.</p>\n",
    "\n",
    "    <p>We would like to invite you to support us in this endeavor by contributing as a sponsor.</p>\n",
    "\n",
    "    <p>This year, Japan Habba has 3 tiers of sponsorship: Silver, Gold and Platinum for Rs. 5,000, Rs. 10,000 and Rs. 20,000 respectively.</p>\n",
    "\n",
    "    <p>All three tiers of sponsorship come with perks of advertisement, as well as participating in the Japan Habba Tech Fair, which will be attended by students and young working professionals from around the country. We hope that this will allow you to interact with bilingual and technical talent.</p>\n",
    "    \n",
    "    <p>Please take a look at attached brochure for more information, and how to apply.</p>\n",
    "    \n",
    "    <p style=\"color: red;\">(As a side note, please note that our Event Applications close on *February 15*. If you are interested in hosting an event at Japan Habba, independent of sponsorships, please send in your event applications soon! Please note that this is distinct from sponsorships.)</p>\n",
    "\n",
    "    <p>For any queries, please send a WhatsApp message to <a href=\"https://wa.me/919449837370\">+91-9449837370 (Anjana Seshagiri)</a> or <a href=\"https://wa.me/919611417993\">+91-9611417993 (Jenika Prajapati)</a>.</p>\"\"\"\n",
    "\n",
    "    # Record the MIME types of both parts - text/plain and text/html.\n",
    "    part1 = MIMEText(text, 'plain')\n",
    "    part2 = MIMEText(html, 'html')\n",
    "\n",
    "    # Attach parts into message container.\n",
    "    # According to RFC 2046, the last part of a multipart message, in this case\n",
    "    # the HTML message, is best and preferred.\n",
    "    msg.attach(part1)\n",
    "    msg.attach(part2)\n",
    "\n",
    "    path = 'C:/Users/Soham/Downloads/'\n",
    "    filename = 'JH22 Sponsorship.pdf'\n",
    "\n",
    "    with open(os.path.join(path, filename), 'rb') as f:\n",
    "        attachment = MIMEBase('application', 'pdf')\n",
    "        attachment.set_payload(f.read())\n",
    "        f.close()\n",
    "        encoders.encode_base64(attachment)\n",
    "        attachment.add_header(\"Content-Disposition\", \"attachment\", filename=filename)\n",
    "        attachment.add_header('Content-ID', '<{}>'.format(filename))\n",
    "        msg.attach(attachment)\n",
    "\n",
    "    # Send the message via local SMTP server.\n",
    "    s = smtplib.SMTP('smtp.gmail.com', 587)\n",
    "\n",
    "    # start TLS for security\n",
    "    s.starttls()\n",
    "\n",
    "    # Authentication\n",
    "    s.login(\"japanhabbapr@gmail.com\", \"jhpr2018\")\n",
    "\n",
    "    # sendmail function takes 3 arguments: sender's address, recipient's address\n",
    "    # and message to send - here it is sent as one string.\n",
    "    s.sendmail(me, you, msg.as_string())\n",
    "    s.quit()"
   ]
  },
  {
   "cell_type": "code",
   "execution_count": null,
   "id": "1ea552ec",
   "metadata": {},
   "outputs": [],
   "source": [
    "send_email_generic('Indo-Japan Chamber Of Commerce and Industries, Karnataka', 'anjana@ijccik.org')"
   ]
  },
  {
   "cell_type": "code",
   "execution_count": null,
   "id": "f7c51444",
   "metadata": {},
   "outputs": [],
   "source": [
    "send_email_generic('Indo-Japan Chamber Of Commerce and Industries, Karnataka', 'ijcci@ijccik.org')"
   ]
  },
  {
   "cell_type": "code",
   "execution_count": null,
   "id": "478c6b10",
   "metadata": {},
   "outputs": [],
   "source": [
    "send_email_generic('Bangalore Nihongo Kyooshikai', 'pr.bangalorenihongokyoushikai@gmail.com')"
   ]
  },
  {
   "cell_type": "code",
   "execution_count": null,
   "id": "1d1653e3",
   "metadata": {},
   "outputs": [],
   "source": [
    "send_email_generic('Bangalore Nihongo Kyooshikai', 'sowmini.r@gmail.com')"
   ]
  }
 ],
 "metadata": {
  "kernelspec": {
   "display_name": "Python 3 (ipykernel)",
   "language": "python",
   "name": "python3"
  },
  "language_info": {
   "codemirror_mode": {
    "name": "ipython",
    "version": 3
   },
   "file_extension": ".py",
   "mimetype": "text/x-python",
   "name": "python",
   "nbconvert_exporter": "python",
   "pygments_lexer": "ipython3",
   "version": "3.9.5"
  }
 },
 "nbformat": 4,
 "nbformat_minor": 5
}
