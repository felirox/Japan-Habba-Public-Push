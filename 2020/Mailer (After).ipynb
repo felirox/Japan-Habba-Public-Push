{
 "cells": [
  {
   "cell_type": "code",
   "execution_count": 1,
   "id": "2d6c0e56",
   "metadata": {},
   "outputs": [],
   "source": [
    "import smtplib, os\n",
    "\n",
    "from email.utils import formataddr\n",
    "from email.mime.multipart import MIMEMultipart\n",
    "from email.mime.text import MIMEText\n",
    "from email.mime.base import MIMEBase\n",
    "from email import encoders"
   ]
  },
  {
   "cell_type": "code",
   "execution_count": 2,
   "id": "77904aaf",
   "metadata": {},
   "outputs": [],
   "source": [
    "platinum_html = \"\"\"<p>Dear {},</p>\n",
    "\n",
    "<p>Greetings from Japan Habba!!</p>\n",
    "<p>We are glad to inform you that Japan Habba 2022 was a resounding success.</p>\n",
    "\n",
    "<p>As a push to make this year’s Japan Habba special, we succeeded in soliciting enthusiastic participation from various states of India thanks to collaborations with organizations and Institutes related to Japanese activities around the country in various states including Maharashtra, Tamil Nadu, West Bengal, Telangana, New Delhi and NCR and of course, Karnataka. Our events also saw participation from Japan. <b><i>(Please find the detailed analytics and highlights in the attachment)</i></b></p>\n",
    "\n",
    "<p>We are very grateful to {} for your gracious support, which has helped us in making Japan Habba a successful event.</p>\n",
    "\n",
    "<p>All Japan Habba events were streamed to YouTube as well as Discord. Additionally, the YouTube stream was embedded on the Japan Habba website, https://japanhabba.org. As previously communicated with you:</p>\n",
    "<ol><li>As part of this live stream, we have played your advertisement at least 7 times over the course of the 3 days of Japan Habba.</li>\n",
    "<li>The tech fair job portal has been available for posting Job listings from {}. The portal will continue to remain accessible to prospective applicants for an extended period of time.</li>\n",
    "<li>As a platinum sponsor, all our promotional material has the logo of your company.</li>\n",
    "<li>As a platinum sponsor, your representative(s), {} delivered a job talk at the event “You’re Hired!”, lasting a total of {} minutes (including Q&A).</li></ol>\n",
    "\n",
    "<p>Over the course of our promotions this year, our YouTube channel has seen a significant increase in the number of subscribers, adding a total of 1,048 subscribers in the past month alone. Furthermore, the Discord server for the event (set up from scratch for our event this year) amassed 1,164 members.</p>\n",
    "\n",
    "<p>We are uploading the contents of each event on an individual basis. Please note that we are uploading them gradually to maximize the viewership for each individual video, so it may take a few weeks before videos for all events are accessible for public viewing.</p>\n",
    "\n",
    "<p>As has been the case with the in-person Japan Habba event in years past, the online incarnation of Japan Habba is also exhibiting exponential growth on a year-on-year basis. Our sincere thanks once again to {{sponsor name}} for the support you extended to Japan Habba this year. We look forward to your support and cooperation in the coming years as well!</p>\n",
    "\n",
    "<p>Regards,<br>\n",
    "Meghna Vijaykumar<br>\n",
    "Japan Habba Organizing Committee</p>\"\"\""
   ]
  },
  {
   "cell_type": "code",
   "execution_count": 3,
   "id": "d83f1f7c",
   "metadata": {},
   "outputs": [],
   "source": [
    "platinum_plain = \"\"\"Dear {},\n",
    "\n",
    "Greetings from Japan Habba!!\n",
    "We are glad to inform you that Japan Habba 2022 was a resounding success.\n",
    "\n",
    "As a push to make this year’s Japan Habba special, we succeeded in soliciting enthusiastic participation from various states of India thanks to collaborations with organizations and Institutes related to Japanese activities around the country in various states including Maharashtra, Tamil Nadu, West Bengal, Telangana, New Delhi and NCR and of course, Karnataka. Our events also saw participation from Japan. (Please find the detailed analytics and highlights in the attachment)\n",
    "\n",
    "We are very grateful to {} for your gracious support, which has helped us in making Japan Habba a successful event.\n",
    "\n",
    "All Japan Habba events were streamed to YouTube as well as Discord. Additionally, the YouTube stream was embedded on the Japan Habba website, https://japanhabba.org. As previously communicated with you:\n",
    "1. As part of this live stream, we have played your advertisement at least 7 times over the course of the 3 days of Japan Habba.\n",
    "2. The tech fair job portal has been available for posting Job listings from {}. The portal will continue to remain accessible to prospective applicants for an extended period of time.\n",
    "3. As a platinum sponsor, all our promotional material has the logo of your company.\n",
    "4. As a platinum sponsor, your representative(s), {} delivered a job talk at the event “You’re Hired!”, lasting a total of {} minutes (including Q&A).\n",
    "\n",
    "Over the course of our promotions this year, our YouTube channel has seen a significant increase in the number of subscribers, adding a total of 1,048 subscribers in the past month alone. Furthermore, the Discord server for the event (set up from scratch for our event this year) amassed 1,164 members.\n",
    "\n",
    "We are uploading the contents of each event on an individual basis. Please note that we are uploading them gradually to maximize the viewership for each individual video, so it may take a few weeks before videos for all events are accessible for public viewing.\n",
    "\n",
    "As has been the case with the in-person Japan Habba event in years past, the online incarnation of Japan Habba is also exhibiting exponential growth on a year-on-year basis. Our sincere thanks once again to {{sponsor name}} for the support you extended to Japan Habba this year. We look forward to your support and cooperation in the coming years as well!\n",
    "\n",
    "Regards,\n",
    "Meghna Vijaykumar\n",
    "Japan Habba Organizing Committee\"\"\""
   ]
  },
  {
   "cell_type": "code",
   "execution_count": 4,
   "id": "6c61e575",
   "metadata": {},
   "outputs": [],
   "source": [
    "diamond_html = \"\"\"<p>Dear {},</p>\n",
    "\n",
    "<p>Greetings from Japan Habba!!</p>\n",
    "<p>We are glad to inform you that Japan Habba 2022 was a resounding success.</p>\n",
    "\n",
    "<p>As a push to make this year’s Japan Habba special, we succeeded in soliciting enthusiastic participation from various states of India thanks to collaborations with organizations and Institutes related to Japanese activities around the country in various states including Maharashtra, Tamil Nadu, West Bengal, Telangana, New Delhi and NCR and of course, Karnataka. Our events also saw participation from Japan. <b><i>(Please find the detailed analytics and highlights in the attachment)</i></b></p>\n",
    "\n",
    "<p>We are very grateful to {} for your gracious support, which has helped us in making Japan Habba a successful event.</p>\n",
    "\n",
    "<p>All Japan Habba events were streamed to YouTube as well as Discord. Additionally, the YouTube stream was embedded on the Japan Habba website, https://japanhabba.org. As previously communicated with you:</p>\n",
    "<ol><li>As part of this live stream, we have played your advertisement at least 7 times over the course of the 3 days of Japan Habba.</li>\n",
    "<li>The tech fair job portal has been available for posting Job listings from {}. The portal will continue to remain accessible to prospective applicants for an extended period of time.</li>\n",
    "<li>As a diamond sponsor, your representative(s), {} delivered a job talk at the event “You’re Hired!”, lasting a total of {} minutes (including Q&A).</li></ol>\n",
    "\n",
    "<p>Over the course of our promotions this year, our YouTube channel has seen a significant increase in the number of subscribers, adding a total of 1,048 subscribers in the past month alone. Furthermore, the Discord server for the event (set up from scratch for our event this year) amassed 1,164 members.</p>\n",
    "\n",
    "<p>We are uploading the contents of each event on an individual basis. Please note that we are uploading them gradually to maximize the viewership for each individual video, so it may take a few weeks before videos for all events are accessible for public viewing.</p>\n",
    "\n",
    "<p>As has been the case with the in-person Japan Habba event in years past, the online incarnation of Japan Habba is also exhibiting exponential growth on a year-on-year basis. Our sincere thanks once again to {{sponsor name}} for the support you extended to Japan Habba this year. We look forward to your support and cooperation in the coming years as well!</p>\n",
    "\n",
    "<p>Regards,<br>\n",
    "Meghna Vijaykumar<br>\n",
    "Japan Habba Organizing Committee</p>\"\"\""
   ]
  },
  {
   "cell_type": "code",
   "execution_count": 5,
   "id": "99c33970",
   "metadata": {},
   "outputs": [],
   "source": [
    "diamond_plain = \"\"\"Dear {},\n",
    "\n",
    "Greetings from Japan Habba!!\n",
    "We are glad to inform you that Japan Habba 2022 was a resounding success.\n",
    "\n",
    "As a push to make this year’s Japan Habba special, we succeeded in soliciting enthusiastic participation from various states of India thanks to collaborations with organizations and Institutes related to Japanese activities around the country in various states including Maharashtra, Tamil Nadu, West Bengal, Telangana, New Delhi and NCR and of course, Karnataka. Our events also saw participation from Japan. (Please find the detailed analytics and highlights in the attachment)\n",
    "\n",
    "We are very grateful to {} for your gracious support, which has helped us in making Japan Habba a successful event.\n",
    "\n",
    "All Japan Habba events were streamed to YouTube as well as Discord. Additionally, the YouTube stream was embedded on the Japan Habba website, https://japanhabba.org. As previously communicated with you:\n",
    "1. As part of this live stream, we have played your advertisement at least 7 times over the course of the 3 days of Japan Habba.\n",
    "2. The tech fair job portal has been available for posting Job listings from {}. The portal will continue to remain accessible to prospective applicants for an extended period of time.\n",
    "3. As a diamond sponsor, your representative(s), {} delivered a job talk at the event “You’re Hired!”, lasting a total of {} minutes (including Q&A).\n",
    "\n",
    "Over the course of our promotions this year, our YouTube channel has seen a significant increase in the number of subscribers, adding a total of 1,048 subscribers in the past month alone. Furthermore, the Discord server for the event (set up from scratch for our event this year) amassed 1,164 members.\n",
    "\n",
    "We are uploading the contents of each event on an individual basis. Please note that we are uploading them gradually to maximize the viewership for each individual video, so it may take a few weeks before videos for all events are accessible for public viewing.\n",
    "\n",
    "As has been the case with the in-person Japan Habba event in years past, the online incarnation of Japan Habba is also exhibiting exponential growth on a year-on-year basis. Our sincere thanks once again to {{sponsor name}} for the support you extended to Japan Habba this year. We look forward to your support and cooperation in the coming years as well!\n",
    "\n",
    "Regards,\n",
    "Meghna Vijaykumar\n",
    "Japan Habba Organizing Committee\"\"\""
   ]
  },
  {
   "cell_type": "code",
   "execution_count": 6,
   "id": "29763bee",
   "metadata": {},
   "outputs": [],
   "source": [
    "gold_html = \"\"\"<p>Dear {},</p>\n",
    "\n",
    "<p>Greetings from Japan Habba!!</p>\n",
    "<p>We are glad to inform you that Japan Habba 2022 was a resounding success.</p>\n",
    "\n",
    "<p>As a push to make this year’s Japan Habba special, we succeeded in soliciting enthusiastic participation from various states of India thanks to collaborations with organizations and Institutes related to Japanese activities around the country in various states including Maharashtra, Tamil Nadu, West Bengal, Telangana, New Delhi and NCR and of course, Karnataka. Our events also saw participation from Japan. <b><i>(Please find the detailed analytics and highlights in the attachment)</i></b></p>\n",
    "\n",
    "<p>We are very grateful to {} for your gracious support, which has helped us in making Japan Habba a successful event.</p>\n",
    "\n",
    "<p>All Japan Habba events were streamed to YouTube as well as Discord. Additionally, the YouTube stream was embedded on the Japan Habba website, https://japanhabba.org. As previously communicated with you:</p>\n",
    "<ol><li>As part of this live stream, we have played your advertisement at least 7 times over the course of the 3 days of Japan Habba.</li>\n",
    "<li>The tech fair job portal has been available for posting Job listings from {}. The portal will continue to remain accessible to prospective applicants for an extended period of time.</li>\n",
    "<li>As a gold sponsor, we have added you as a sponsor to the event {}, as per your preference. All promotional material of the event, {} has your company’s logo. We have also played your advertisement before and after the event sponsored by you.</li></ol>\n",
    "\n",
    "<p>Over the course of our promotions this year, our YouTube channel has seen a significant increase in the number of subscribers, adding a total of 1,048 subscribers in the past month alone. Furthermore, the Discord server for the event (set up from scratch for our event this year) amassed 1,164 members.</p>\n",
    "\n",
    "<p>We are uploading the contents of each event on an individual basis. Please note that we are uploading them gradually to maximize the viewership for each individual video, so it may take a few weeks before videos for all events are accessible for public viewing.</p>\n",
    "\n",
    "<p>As has been the case with the in-person Japan Habba event in years past, the online incarnation of Japan Habba is also exhibiting exponential growth on a year-on-year basis. Our sincere thanks once again to {{sponsor name}} for the support you extended to Japan Habba this year. We look forward to your support and cooperation in the coming years as well!</p>\n",
    "\n",
    "<p>Regards,<br>\n",
    "Meghna Vijaykumar<br>\n",
    "Japan Habba Organizing Committee</p>\"\"\""
   ]
  },
  {
   "cell_type": "code",
   "execution_count": 7,
   "id": "3786b0eb",
   "metadata": {},
   "outputs": [],
   "source": [
    "gold_plain = \"\"\"Dear {},\n",
    "\n",
    "Greetings from Japan Habba!!\n",
    "We are glad to inform you that Japan Habba 2022 was a resounding success.\n",
    "\n",
    "As a push to make this year’s Japan Habba special, we succeeded in soliciting enthusiastic participation from various states of India thanks to collaborations with organizations and Institutes related to Japanese activities around the country in various states including Maharashtra, Tamil Nadu, West Bengal, Telangana, New Delhi and NCR and of course, Karnataka. Our events also saw participation from Japan. (Please find the detailed analytics and highlights in the attachment)\n",
    "\n",
    "We are very grateful to {} for your gracious support, which has helped us in making Japan Habba a successful event.\n",
    "\n",
    "All Japan Habba events were streamed to YouTube as well as Discord. Additionally, the YouTube stream was embedded on the Japan Habba website, https://japanhabba.org. As previously communicated with you:\n",
    "1. As part of this live stream, we have played your advertisement at least 7 times over the course of the 3 days of Japan Habba.\n",
    "2. The tech fair job portal has been available for posting Job listings from {}. The portal will continue to remain accessible to prospective applicants for an extended period of time.\n",
    "3. As a gold sponsor, we have added you as a sponsor to the event {}, as per your preference. All promotional material of the event, {} has your company’s logo. We have also played your advertisement before and after the event sponsored by you.\n",
    "\n",
    "Over the course of our promotions this year, our YouTube channel has seen a significant increase in the number of subscribers, adding a total of 1,048 subscribers in the past month alone. Furthermore, the Discord server for the event (set up from scratch for our event this year) amassed 1,164 members.\n",
    "\n",
    "We are uploading the contents of each event on an individual basis. Please note that we are uploading them gradually to maximize the viewership for each individual video, so it may take a few weeks before videos for all events are accessible for public viewing.\n",
    "\n",
    "As has been the case with the in-person Japan Habba event in years past, the online incarnation of Japan Habba is also exhibiting exponential growth on a year-on-year basis. Our sincere thanks once again to {{sponsor name}} for the support you extended to Japan Habba this year. We look forward to your support and cooperation in the coming years as well!\n",
    "\n",
    "Regards,\n",
    "Meghna Vijaykumar\n",
    "Japan Habba Organizing Committee\"\"\""
   ]
  },
  {
   "cell_type": "code",
   "execution_count": 8,
   "id": "e7cc9d81",
   "metadata": {},
   "outputs": [],
   "source": [
    "silver_html = \"\"\"<p>Dear {},</p>\n",
    "\n",
    "<p>Greetings from Japan Habba!!</p>\n",
    "<p>We are glad to inform you that Japan Habba 2022 was a resounding success.</p>\n",
    "\n",
    "<p>As a push to make this year’s Japan Habba special, we succeeded in soliciting enthusiastic participation from various states of India thanks to collaborations with organizations and Institutes related to Japanese activities around the country in various states including Maharashtra, Tamil Nadu, West Bengal, Telangana, New Delhi and NCR and of course, Karnataka. Our events also saw participation from Japan. <b><i>(Please find the detailed analytics and highlights in the attachment)</i></b></p>\n",
    "\n",
    "<p>We are very grateful to {} for your gracious support, which has helped us in making Japan Habba a successful event.</p>\n",
    "\n",
    "<p>All Japan Habba events were streamed to YouTube as well as Discord. Additionally, the YouTube stream was embedded on the Japan Habba website, https://japanhabba.org. As previously communicated with you:</p>\n",
    "<ol><li>As part of this live stream, we have played your advertisement at least 7 times over the course of the 3 days of Japan Habba.</li>\n",
    "<li>The tech fair job portal has been available for posting Job listings from {}. The portal will continue to remain accessible to prospective applicants for an extended period of time.</li></ol>\n",
    "\n",
    "<p>Over the course of our promotions this year, our YouTube channel has seen a significant increase in the number of subscribers, adding a total of 1,048 subscribers in the past month alone. Furthermore, the Discord server for the event (set up from scratch for our event this year) amassed 1,164 members.</p>\n",
    "\n",
    "<p>We are uploading the contents of each event on an individual basis. Please note that we are uploading them gradually to maximize the viewership for each individual video, so it may take a few weeks before videos for all events are accessible for public viewing.</p>\n",
    "\n",
    "<p>As has been the case with the in-person Japan Habba event in years past, the online incarnation of Japan Habba is also exhibiting exponential growth on a year-on-year basis. Our sincere thanks once again to {{sponsor name}} for the support you extended to Japan Habba this year. We look forward to your support and cooperation in the coming years as well!</p>\n",
    "\n",
    "<p>Regards,<br>\n",
    "Meghna Vijaykumar<br>\n",
    "Japan Habba Organizing Committee</p>\"\"\""
   ]
  },
  {
   "cell_type": "code",
   "execution_count": 9,
   "id": "8d794049",
   "metadata": {},
   "outputs": [],
   "source": [
    "silver_plain = \"\"\"Dear {},\n",
    "\n",
    "Greetings from Japan Habba!!\n",
    "We are glad to inform you that Japan Habba 2022 was a resounding success.\n",
    "\n",
    "As a push to make this year’s Japan Habba special, we succeeded in soliciting enthusiastic participation from various states of India thanks to collaborations with organizations and Institutes related to Japanese activities around the country in various states including Maharashtra, Tamil Nadu, West Bengal, Telangana, New Delhi and NCR and of course, Karnataka. Our events also saw participation from Japan. (Please find the detailed analytics and highlights in the attachment)\n",
    "\n",
    "We are very grateful to {} for your gracious support, which has helped us in making Japan Habba a successful event.\n",
    "\n",
    "All Japan Habba events were streamed to YouTube as well as Discord. Additionally, the YouTube stream was embedded on the Japan Habba website, https://japanhabba.org. As previously communicated with you:\n",
    "1. As part of this live stream, we have played your advertisement at least 7 times over the course of the 3 days of Japan Habba.\n",
    "2. The tech fair job portal has been available for posting Job listings from {}. The portal will continue to remain accessible to prospective applicants for an extended period of time.\n",
    "\n",
    "Over the course of our promotions this year, our YouTube channel has seen a significant increase in the number of subscribers, adding a total of 1,048 subscribers in the past month alone. Furthermore, the Discord server for the event (set up from scratch for our event this year) amassed 1,164 members.\n",
    "\n",
    "We are uploading the contents of each event on an individual basis. Please note that we are uploading them gradually to maximize the viewership for each individual video, so it may take a few weeks before videos for all events are accessible for public viewing.\n",
    "\n",
    "As has been the case with the in-person Japan Habba event in years past, the online incarnation of Japan Habba is also exhibiting exponential growth on a year-on-year basis. Our sincere thanks once again to {{sponsor name}} for the support you extended to Japan Habba this year. We look forward to your support and cooperation in the coming years as well!\n",
    "\n",
    "Regards,\n",
    "Meghna Vijaykumar\n",
    "Japan Habba Organizing Committee\"\"\""
   ]
  },
  {
   "cell_type": "code",
   "execution_count": 10,
   "id": "3aa9fb70",
   "metadata": {},
   "outputs": [],
   "source": [
    "def send_email(company_name, person_name, person_email, tier, cc=None, event=None, X=None, Y=None):\n",
    "    # me == my email address\n",
    "    # you == recipient's email address\n",
    "    me = formataddr(('Japan Habba Public Relations', 'japanhabbapr@gmail.com')) #\"japanhabbapr@gmail.com\"\n",
    "    you = person_email #\"pikachuzhome@gmail.com\"\n",
    "\n",
    "    # Create message container - the correct MIME type is multipart/alternative.\n",
    "    msg = MIMEMultipart('alternative')\n",
    "    msg['Subject'] = \"Japan Habba 2022 - Highlights and Analytics\"\n",
    "    msg['From'] = me\n",
    "    msg['To'] = you\n",
    "    \n",
    "    if cc is not None:\n",
    "        msg['Cc'] = cc\n",
    "    \n",
    "    sponsor = company_name\n",
    "    names = person_name\n",
    "    \n",
    "    # Create the body of the message (a plain-text and an HTML version).\n",
    "    if tier == 'gold':\n",
    "        assert event is not None\n",
    "        text = gold_plain.format(names, sponsor, sponsor, event, event, sponsor)\n",
    "        html = gold_html.format(names, sponsor, sponsor, event, event, sponsor)\n",
    "    elif tier == 'diamond':\n",
    "        assert X is not None\n",
    "        assert Y is not None\n",
    "        text = diamond_plain.format(names, sponsor, sponsor, X, Y, sponsor)\n",
    "        html = diamond_html.format(names, sponsor, sponsor, X, Y, sponsor)\n",
    "    elif tier == 'platinum':\n",
    "        assert X is not None\n",
    "        assert Y is not None\n",
    "        text = platinum_plain.format(names, sponsor, sponsor, X, Y, sponsor)\n",
    "        html = platinum_html.format(names, sponsor, sponsor, X, Y, sponsor)\n",
    "    elif tier == 'silver':\n",
    "        text = silver_plain.format(names, sponsor, sponsor, sponsor)\n",
    "        html = silver_html.format(names, sponsor, sponsor, sponsor)\n",
    "    else:\n",
    "        assert False\n",
    "\n",
    "    # Record the MIME types of both parts - text/plain and text/html.\n",
    "    part1 = MIMEText(text, 'plain')\n",
    "    part2 = MIMEText(html, 'html')\n",
    "\n",
    "    # Attach parts into message container.\n",
    "    # According to RFC 2046, the last part of a multipart message, in this case\n",
    "    # the HTML message, is best and preferred.\n",
    "    msg.attach(part1)\n",
    "    msg.attach(part2)\n",
    "\n",
    "    path = 'C:/Users/Soham/Downloads/'\n",
    "    filename = 'JH22 Analytics.pdf'\n",
    "\n",
    "    with open(os.path.join(path, filename), 'rb') as f:\n",
    "        attachment = MIMEBase('application', 'pdf')\n",
    "        attachment.set_payload(f.read())\n",
    "        f.close()\n",
    "        encoders.encode_base64(attachment)\n",
    "        attachment.add_header(\"Content-Disposition\", \"attachment\", filename=filename)\n",
    "        attachment.add_header('Content-ID', '<{}>'.format(filename))\n",
    "        msg.attach(attachment)\n",
    "        \n",
    "    filename2 = 'JH22 Highlights (mini).pdf'\n",
    "\n",
    "    with open(os.path.join(path, filename2), 'rb') as f2:\n",
    "        attachment2 = MIMEBase('application', 'pdf')\n",
    "        attachment2.set_payload(f2.read())\n",
    "        f2.close()\n",
    "        encoders.encode_base64(attachment2)\n",
    "        attachment2.add_header(\"Content-Disposition\", \"attachment\", filename=filename2)\n",
    "        attachment2.add_header('Content-ID', '<{}>'.format(filename2))\n",
    "        msg.attach(attachment2)\n",
    "\n",
    "    # Send the message via local SMTP server.\n",
    "    s = smtplib.SMTP('smtp.gmail.com', 587)\n",
    "\n",
    "    # start TLS for security\n",
    "    s.starttls()\n",
    "\n",
    "    # Authentication\n",
    "    s.login(\"japanhabbapr@gmail.com\", \"csccukuvhvdbodap\")\n",
    "\n",
    "    # sendmail function takes 3 arguments: sender's address, recipient's address\n",
    "    # and message to send - here it is sent as one string.\n",
    "    s.sendmail(me, you, msg.as_string())\n",
    "    s.quit()"
   ]
  },
  {
   "cell_type": "code",
   "execution_count": 11,
   "id": "201dbb31",
   "metadata": {},
   "outputs": [],
   "source": [
    "import pandas as pd"
   ]
  },
  {
   "cell_type": "code",
   "execution_count": 12,
   "id": "11be304b",
   "metadata": {},
   "outputs": [],
   "source": [
    "platinum_df = pd.read_csv('C:/Users/Soham/Downloads/platinum.csv')\n",
    "diamond_df = pd.read_csv('C:/Users/Soham/Downloads/diamond.csv')\n",
    "gold_df = pd.read_csv('C:/Users/Soham/Downloads/gold.csv')\n",
    "silver_df = pd.read_csv('C:/Users/Soham/Downloads/silver.csv')"
   ]
  },
  {
   "cell_type": "code",
   "execution_count": 13,
   "id": "0ccfe01d",
   "metadata": {},
   "outputs": [],
   "source": [
    "from tqdm import tqdm"
   ]
  },
  {
   "cell_type": "code",
   "execution_count": 14,
   "id": "345971f2",
   "metadata": {},
   "outputs": [],
   "source": [
    "import numpy as np"
   ]
  },
  {
   "cell_type": "code",
   "execution_count": 15,
   "id": "716eebb0",
   "metadata": {},
   "outputs": [
    {
     "name": "stderr",
     "output_type": "stream",
     "text": [
      "\r",
      "0it [00:00, ?it/s]"
     ]
    },
    {
     "name": "stdout",
     "output_type": "stream",
     "text": [
      "Sony India Software Centre Pvt. Ltd. : Oda-san, Muthuraj-san : Muthuraj.Adiga@sony.com : Yoichi.Oda@ap.sony.com : Sivamurugan Sermakani : 15\n"
     ]
    },
    {
     "name": "stderr",
     "output_type": "stream",
     "text": [
      "1it [00:14, 14.04s/it]\n"
     ]
    }
   ],
   "source": [
    "tier = 'platinum'\n",
    "\n",
    "for index, row in tqdm(platinum_df.iterrows()):\n",
    "    company_name = row['sponsor']\n",
    "    person_name = row['names']\n",
    "    person_email = row['email']\n",
    "    person_email_cc = row['secondary_email']\n",
    "    person_X = row['X']\n",
    "    person_Y = row['Y']\n",
    "    \n",
    "    if pd.isnull(person_email_cc):\n",
    "        person_email_cc = None\n",
    "    \n",
    "    print(company_name, ':', person_name, ':', person_email, ':', person_email_cc, ':', person_X, ':', person_Y)\n",
    "    send_email(company_name, person_name, person_email, tier, cc=person_email_cc, X=person_X, Y=person_Y)"
   ]
  },
  {
   "cell_type": "code",
   "execution_count": 16,
   "id": "bc317ae4",
   "metadata": {},
   "outputs": [],
   "source": [
    "tier = 'diamond'\n",
    "\n",
    "for index, row in tqdm(diamond_df.iterrows()):\n",
    "    company_name = row['sponsor']\n",
    "    person_name = row['names']\n",
    "    person_email = row['email']\n",
    "    person_email_cc = row['secondary_email']\n",
    "    person_X = row['X']\n",
    "    person_Y = row['Y']\n",
    "    \n",
    "    if pd.isnull(person_email_cc):\n",
    "        person_email_cc = None\n",
    "    \n",
    "    print(company_name, ':', person_name, ':', person_email, ':', person_email_cc, ':', person_X, ':', person_Y)\n",
    "    send_email(company_name, person_name, person_email, tier, cc=person_email_cc, X=person_X, Y=person_Y)"
   ]
  },
  {
   "cell_type": "code",
   "execution_count": 20,
   "id": "224e331e",
   "metadata": {
    "scrolled": false
   },
   "outputs": [
    {
     "name": "stderr",
     "output_type": "stream",
     "text": [
      "\r",
      "0it [00:00, ?it/s]"
     ]
    },
    {
     "name": "stdout",
     "output_type": "stream",
     "text": [
      "Makino India Pvt. Ltd. : Namritha M.S : namrithams@makino.co.in : None : Meme contest\n"
     ]
    },
    {
     "name": "stderr",
     "output_type": "stream",
     "text": [
      "1it [00:13, 13.32s/it]\n"
     ]
    }
   ],
   "source": [
    "tier = 'gold'\n",
    "\n",
    "for index, row in tqdm(gold_df.iterrows()):\n",
    "    company_name = row['sponsor']\n",
    "    person_name = row['names']\n",
    "    person_email = row['email']\n",
    "    person_email_cc = row['secondary_email']\n",
    "    person_event = row['event']\n",
    "    \n",
    "    if pd.isnull(person_email_cc):\n",
    "        person_email_cc = None\n",
    "    \n",
    "    print(company_name, ':', person_name, ':', person_email, ':', person_email_cc, ':', person_event)\n",
    "    send_email(company_name, person_name, person_email, tier, cc=person_email_cc, event=person_event)"
   ]
  },
  {
   "cell_type": "code",
   "execution_count": 18,
   "id": "1411712f",
   "metadata": {},
   "outputs": [
    {
     "name": "stderr",
     "output_type": "stream",
     "text": [
      "\r",
      "0it [00:00, ?it/s]"
     ]
    },
    {
     "name": "stdout",
     "output_type": "stream",
     "text": [
      "Toyota Kirloskar Auto Parts Pvt Ltd : Shivayogi-san : shivayogi@tkap.co.in : None\n"
     ]
    },
    {
     "name": "stderr",
     "output_type": "stream",
     "text": [
      "\r",
      "1it [00:14, 14.04s/it]"
     ]
    },
    {
     "name": "stdout",
     "output_type": "stream",
     "text": [
      "Toyota Kirloskar Motor : Prashanth-san, Kiran-san : Prashanthnaidu@toyota-kirloskar.co.in : kiranhj@toyota-kirloskar.co.in\n"
     ]
    },
    {
     "name": "stderr",
     "output_type": "stream",
     "text": [
      "2it [00:27, 13.56s/it]\n"
     ]
    }
   ],
   "source": [
    "tier = 'silver'\n",
    "\n",
    "for index, row in tqdm(silver_df.iterrows()):\n",
    "    company_name = row['sponsor']\n",
    "    person_name = row['names']\n",
    "    person_email = row['email']\n",
    "    person_email_cc = row['secondary_email']\n",
    "    \n",
    "    if pd.isnull(person_email_cc):\n",
    "        person_email_cc = None\n",
    "    \n",
    "    print(company_name, ':', person_name, ':', person_email, ':', person_email_cc)\n",
    "    send_email(company_name, person_name, person_email, tier, cc=person_email_cc)"
   ]
  }
 ],
 "metadata": {
  "kernelspec": {
   "display_name": "Python 3 (ipykernel)",
   "language": "python",
   "name": "python3"
  },
  "language_info": {
   "codemirror_mode": {
    "name": "ipython",
    "version": 3
   },
   "file_extension": ".py",
   "mimetype": "text/x-python",
   "name": "python",
   "nbconvert_exporter": "python",
   "pygments_lexer": "ipython3",
   "version": "3.9.5"
  }
 },
 "nbformat": 4,
 "nbformat_minor": 5
}
