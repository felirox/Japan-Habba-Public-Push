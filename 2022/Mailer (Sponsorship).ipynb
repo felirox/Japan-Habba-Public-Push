{
 "cells": [
  {
   "cell_type": "code",
   "execution_count": 1,
   "id": "2d6c0e56",
   "metadata": {},
   "outputs": [],
   "source": [
    "import smtplib, os\n",
    "\n",
    "from email.utils import formataddr\n",
    "from email.mime.multipart import MIMEMultipart\n",
    "from email.mime.text import MIMEText\n",
    "from email.mime.base import MIMEBase\n",
    "from email import encoders"
   ]
  },
  {
   "cell_type": "code",
   "execution_count": 2,
   "id": "3aa9fb70",
   "metadata": {},
   "outputs": [],
   "source": [
    "def send_email(company_name, person_name, person_email):\n",
    "    # me == my email address\n",
    "    # you == recipient's email address\n",
    "    me = formataddr(('Japan Habba Public Relations', 'japanhabbapr@gmail.com')) #\"japanhabbapr@gmail.com\"\n",
    "    you = formataddr((person_name, person_email)) #\"pikachuzhome@gmail.com\"\n",
    "\n",
    "    # Create message container - the correct MIME type is multipart/alternative.\n",
    "    msg = MIMEMultipart('alternative')\n",
    "    msg['Subject'] = \"Invitation to Sponsor Japan Habba 2022\"\n",
    "    msg['From'] = me\n",
    "    msg['To'] = you\n",
    "\n",
    "    # Create the body of the message (a plain-text and an HTML version).\n",
    "    text = \"\"\"Dear {},\n",
    "\n",
    "    Greetings from Japan Habba!\n",
    "    \n",
    "    This year, Japan Habba is shaping up to be an online platform for the celebration of India-Japan relations on a national scale.\n",
    "    \n",
    "    The team is hard at work planning events that solicit the cooperation of special interest groups from around the country.\n",
    "\n",
    "    We would like to invite {} to support us in this endeavor by contributing as a sponsor.\n",
    "\n",
    "    This year, Japan Habba has 3 tiers of sponsorship: Silver, Gold and Platinum for Rs. 5,000, Rs. 10,000 and Rs. 20,000 respectively.\n",
    "    \n",
    "    All three tiers of sponsorship come with perks of advertisement, as well as participating in the Japan Habba Tech Fair, which will be attended by students and young working professionals from around the country. We hope that this will allow you to interact with bilingual and technical talent.\n",
    "\n",
    "    We are looking forward to your support!\n",
    "    \n",
    "    Please take a look at attached brochure for more information, and how to apply.\n",
    "    \n",
    "    (As a side note, please note that our Event Applications close on *February 15*. If you are interested in hosting an event at Japan Habba, independent of sponsorships, please send in your event applications soon! Please note that this is distinct from sponsorships.)\n",
    "\n",
    "    For any queries, please send a WhatsApp message to: +91-9449837370 (Anjana S.) or +91-9611417993 (Jenika Prajapati)\"\"\"\n",
    "\n",
    "    html = \"\"\"<p>Dear {},</p>\n",
    "\n",
    "    <p>Greetings from Japan Habba!</p>\n",
    "    \n",
    "    <p>This year, Japan Habba is shaping up to be an online platform for the celebration of India-Japan relations on a national scale.</p>\n",
    "\n",
    "    <p>The team is hard at work planning events that solicit the cooperation of special interest groups from around the country.</p>\n",
    "\n",
    "    <p>We would like to invite {} to support us in this endeavor by contributing as a sponsor.</p>\n",
    "\n",
    "    <p>This year, Japan Habba has 3 tiers of sponsorship: Silver, Gold and Platinum for Rs. 5,000, Rs. 10,000 and Rs. 20,000 respectively.</p>\n",
    "\n",
    "    <p>All three tiers of sponsorship come with perks of advertisement, as well as participating in the Japan Habba Tech Fair, which will be attended by students and young working professionals from around the country. We hope that this will allow you to interact with bilingual and technical talent.</p>\n",
    "    \n",
    "    <p>Please take a look at attached brochure for more information, and how to apply.</p>\n",
    "    \n",
    "    <p style=\"color: red;\">(As a side note, please note that our Event Applications close on *February 15*. If you are interested in hosting an event at Japan Habba, independent of sponsorships, please send in your event applications soon! Please note that this is distinct from sponsorships.)</p>\n",
    "\n",
    "    <p>For any queries, please send a WhatsApp message to <a href=\"https://wa.me/919449837370\">+91-9449837370 (Anjana Seshagiri)</a> or <a href=\"https://wa.me/919611417993\">+91-9611417993 (Jenika Prajapati)</a>.</p>\n",
    "    \"\"\"\n",
    "\n",
    "    # Record the MIME types of both parts - text/plain and text/html.\n",
    "    part1 = MIMEText(text.format(person_name, company_name), 'plain')\n",
    "    part2 = MIMEText(html.format(person_name, company_name), 'html')\n",
    "\n",
    "    # Attach parts into message container.\n",
    "    # According to RFC 2046, the last part of a multipart message, in this case\n",
    "    # the HTML message, is best and preferred.\n",
    "    msg.attach(part1)\n",
    "    msg.attach(part2)\n",
    "\n",
    "    path = 'C:/Users/Soham/Downloads/'\n",
    "    filename = 'JH22 Sponsorship.pdf'\n",
    "\n",
    "    with open(os.path.join(path, filename), 'rb') as f:\n",
    "        attachment = MIMEBase('application', 'pdf')\n",
    "        attachment.set_payload(f.read())\n",
    "        f.close()\n",
    "        encoders.encode_base64(attachment)\n",
    "        attachment.add_header(\"Content-Disposition\", \"attachment\", filename=filename)\n",
    "        attachment.add_header('Content-ID', '<{}>'.format(filename))\n",
    "        msg.attach(attachment)\n",
    "\n",
    "    # Send the message via local SMTP server.\n",
    "    s = smtplib.SMTP('smtp.gmail.com', 587)\n",
    "\n",
    "    # start TLS for security\n",
    "    s.starttls()\n",
    "\n",
    "    # Authentication\n",
    "    s.login(\"japanhabbapr@gmail.com\", \"jhpr2018\")\n",
    "\n",
    "    # sendmail function takes 3 arguments: sender's address, recipient's address\n",
    "    # and message to send - here it is sent as one string.\n",
    "    s.sendmail(me, you, msg.as_string())\n",
    "    s.quit()"
   ]
  },
  {
   "cell_type": "code",
   "execution_count": 3,
   "id": "c1fddaf6",
   "metadata": {},
   "outputs": [],
   "source": [
    "# send_email('Pop Circuit', 'Nikhil Ravikumar', 'popcircuitindia@gmail.com')"
   ]
  },
  {
   "cell_type": "code",
   "execution_count": 3,
   "id": "201dbb31",
   "metadata": {},
   "outputs": [],
   "source": [
    "import pandas as pd"
   ]
  },
  {
   "cell_type": "code",
   "execution_count": 4,
   "id": "11be304b",
   "metadata": {},
   "outputs": [],
   "source": [
    "df = pd.read_csv('C:/Users/Soham/Downloads/mailing_list.csv')"
   ]
  },
  {
   "cell_type": "code",
   "execution_count": null,
   "id": "ccaf2b7c",
   "metadata": {},
   "outputs": [],
   "source": [
    "# send_email('Meghna Co. Ltd.', 'Meghna', 'meghnavijaykumar27@gmail.com')"
   ]
  },
  {
   "cell_type": "code",
   "execution_count": null,
   "id": "cdaaaaf3",
   "metadata": {},
   "outputs": [],
   "source": [
    "# send_email('PikachuzNET', 'Soham', 'pikachuzhome@gmail.com')"
   ]
  },
  {
   "cell_type": "code",
   "execution_count": 5,
   "id": "0ccfe01d",
   "metadata": {},
   "outputs": [],
   "source": [
    "from tqdm import tqdm"
   ]
  },
  {
   "cell_type": "code",
   "execution_count": 9,
   "id": "8d48c7d6",
   "metadata": {},
   "outputs": [
    {
     "data": {
      "text/plain": [
       "1"
      ]
     },
     "execution_count": 9,
     "metadata": {},
     "output_type": "execute_result"
    }
   ],
   "source": [
    "1"
   ]
  },
  {
   "cell_type": "code",
   "execution_count": 8,
   "id": "716eebb0",
   "metadata": {},
   "outputs": [
    {
     "name": "stderr",
     "output_type": "stream",
     "text": [
      "59it [06:17,  6.40s/it]\n"
     ]
    }
   ],
   "source": [
    "count = 0\n",
    "\n",
    "for index, row in tqdm(df.iterrows()):\n",
    "    company_name = row['company_name']\n",
    "    person_name = row['person_name']\n",
    "    person_email = row['person_email']\n",
    "    \n",
    "    count +=1\n",
    "    \n",
    "    if count > 42:\n",
    "        send_email(company_name, person_name, person_email)"
   ]
  },
  {
   "cell_type": "code",
   "execution_count": 10,
   "id": "58a7ddb3",
   "metadata": {},
   "outputs": [],
   "source": [
    "send_email('Sakuraa India Foundation', 'Ranganath Meti K', 'info@sakuraaindiafoundation.org')"
   ]
  },
  {
   "cell_type": "code",
   "execution_count": 11,
   "id": "701ade76",
   "metadata": {},
   "outputs": [],
   "source": [
    "send_email('Rie Masala Pvt. Ltd. (Azuki)', 'Rie Goto', 'riemasala@gmail.com')"
   ]
  },
  {
   "cell_type": "code",
   "execution_count": 12,
   "id": "bab3b6f9",
   "metadata": {},
   "outputs": [],
   "source": [
    "send_email('Otsuka Foods India Pvt. Ltd.', 'Hirokazu Uematsu', 'uematsu.hirokazu@otsuka.jp')"
   ]
  },
  {
   "cell_type": "code",
   "execution_count": 13,
   "id": "fcda811d",
   "metadata": {},
   "outputs": [],
   "source": [
    "def send_email_generic(name, person_email):\n",
    "    # me == my email address\n",
    "    # you == recipient's email address\n",
    "    me = formataddr(('Japan Habba Public Relations', 'japanhabbapr@gmail.com')) #\"japanhabbapr@gmail.com\"\n",
    "    you = formataddr((name, person_email)) #\"pikachuzhome@gmail.com\"\n",
    "\n",
    "    # Create message container - the correct MIME type is multipart/alternative.\n",
    "    msg = MIMEMultipart('alternative')\n",
    "    msg['Subject'] = \"Invitation to Sponsor Japan Habba 2022\"\n",
    "    msg['From'] = me\n",
    "    msg['To'] = you\n",
    "\n",
    "    # Create the body of the message (a plain-text and an HTML version).\n",
    "    text = \"\"\"Dear Sir/Ma'am,\n",
    "\n",
    "    Greetings from Japan Habba!\n",
    "    \n",
    "    This year, Japan Habba is shaping up to be an online platform for the celebration of India-Japan relations on a national scale.\n",
    "    \n",
    "    The team is hard at work planning events that solicit the cooperation of special interest groups from around the country.\n",
    "\n",
    "    We would like to invite you to support us in this endeavor by contributing as a sponsor.\n",
    "\n",
    "    This year, Japan Habba has 3 tiers of sponsorship: Silver, Gold and Platinum for Rs. 5,000, Rs. 10,000 and Rs. 20,000 respectively.\n",
    "    \n",
    "    All three tiers of sponsorship come with perks of advertisement, as well as participating in the Japan Habba Tech Fair, which will be attended by students and young working professionals from around the country. We hope that this will allow you to interact with bilingual and technical talent.\n",
    "\n",
    "    We are looking forward to your support!\n",
    "    \n",
    "    Please take a look at attached brochure for more information, and how to apply.\n",
    "    \n",
    "    (As a side note, please note that our Event Applications close on *February 15*. If you are interested in hosting an event at Japan Habba, independent of sponsorships, please send in your event applications soon! Please note that this is distinct from sponsorships.)\n",
    "\n",
    "    For any queries, please send a WhatsApp message to: +91-9449837370 (Anjana S.) or +91-9611417993 (Jenika Prajapati)\"\"\"\n",
    "\n",
    "    html = \"\"\"<p>Dear Sir/Ma'am,</p>\n",
    "\n",
    "    <p>Greetings from Japan Habba!</p>\n",
    "\n",
    "    <p>This year, Japan Habba is shaping up to be an online platform for the celebration of India-Japan relations on a national scale.</p>\n",
    "\n",
    "    <p>The team is hard at work planning events that solicit the cooperation of special interest groups from around the country.</p>\n",
    "\n",
    "    <p>We would like to invite you to support us in this endeavor by contributing as a sponsor.</p>\n",
    "\n",
    "    <p>This year, Japan Habba has 3 tiers of sponsorship: Silver, Gold and Platinum for Rs. 5,000, Rs. 10,000 and Rs. 20,000 respectively.</p>\n",
    "\n",
    "    <p>All three tiers of sponsorship come with perks of advertisement, as well as participating in the Japan Habba Tech Fair, which will be attended by students and young working professionals from around the country. We hope that this will allow you to interact with bilingual and technical talent.</p>\n",
    "    \n",
    "    <p>Please take a look at attached brochure for more information, and how to apply.</p>\n",
    "    \n",
    "    <p style=\"color: red;\">(As a side note, please note that our Event Applications close on *February 15*. If you are interested in hosting an event at Japan Habba, independent of sponsorships, please send in your event applications soon! Please note that this is distinct from sponsorships.)</p>\n",
    "\n",
    "    <p>For any queries, please send a WhatsApp message to <a href=\"https://wa.me/919449837370\">+91-9449837370 (Anjana Seshagiri)</a> or <a href=\"https://wa.me/919611417993\">+91-9611417993 (Jenika Prajapati)</a>.</p>\"\"\"\n",
    "\n",
    "    # Record the MIME types of both parts - text/plain and text/html.\n",
    "    part1 = MIMEText(text, 'plain')\n",
    "    part2 = MIMEText(html, 'html')\n",
    "\n",
    "    # Attach parts into message container.\n",
    "    # According to RFC 2046, the last part of a multipart message, in this case\n",
    "    # the HTML message, is best and preferred.\n",
    "    msg.attach(part1)\n",
    "    msg.attach(part2)\n",
    "\n",
    "    path = 'C:/Users/Soham/Downloads/'\n",
    "    filename = 'JH22 Sponsorship.pdf'\n",
    "\n",
    "    with open(os.path.join(path, filename), 'rb') as f:\n",
    "        attachment = MIMEBase('application', 'pdf')\n",
    "        attachment.set_payload(f.read())\n",
    "        f.close()\n",
    "        encoders.encode_base64(attachment)\n",
    "        attachment.add_header(\"Content-Disposition\", \"attachment\", filename=filename)\n",
    "        attachment.add_header('Content-ID', '<{}>'.format(filename))\n",
    "        msg.attach(attachment)\n",
    "\n",
    "    # Send the message via local SMTP server.\n",
    "    s = smtplib.SMTP('smtp.gmail.com', 587)\n",
    "\n",
    "    # start TLS for security\n",
    "    s.starttls()\n",
    "\n",
    "    # Authentication\n",
    "    s.login(\"japanhabbapr@gmail.com\", \"jhpr2018\")\n",
    "\n",
    "    # sendmail function takes 3 arguments: sender's address, recipient's address\n",
    "    # and message to send - here it is sent as one string.\n",
    "    s.sendmail(me, you, msg.as_string())\n",
    "    s.quit()"
   ]
  },
  {
   "cell_type": "code",
   "execution_count": 14,
   "id": "1ea552ec",
   "metadata": {},
   "outputs": [],
   "source": [
    "send_email_generic('Indo-Japan Chamber Of Commerce and Industries, Karnataka', 'anjana@ijccik.org')"
   ]
  },
  {
   "cell_type": "code",
   "execution_count": 15,
   "id": "f7c51444",
   "metadata": {},
   "outputs": [],
   "source": [
    "send_email_generic('Indo-Japan Chamber Of Commerce and Industries, Karnataka', 'ijcci@ijccik.org')"
   ]
  },
  {
   "cell_type": "code",
   "execution_count": 16,
   "id": "478c6b10",
   "metadata": {},
   "outputs": [],
   "source": [
    "send_email_generic('Bangalore Nihongo Kyooshikai', 'pr.bangalorenihongokyoushikai@gmail.com')"
   ]
  },
  {
   "cell_type": "code",
   "execution_count": 17,
   "id": "1d1653e3",
   "metadata": {},
   "outputs": [],
   "source": [
    "send_email_generic('Bangalore Nihongo Kyooshikai', 'sowmini.r@gmail.com')"
   ]
  }
 ],
 "metadata": {
  "kernelspec": {
   "display_name": "Python 3 (ipykernel)",
   "language": "python",
   "name": "python3"
  },
  "language_info": {
   "codemirror_mode": {
    "name": "ipython",
    "version": 3
   },
   "file_extension": ".py",
   "mimetype": "text/x-python",
   "name": "python",
   "nbconvert_exporter": "python",
   "pygments_lexer": "ipython3",
   "version": "3.9.5"
  }
 },
 "nbformat": 4,
 "nbformat_minor": 5
}
